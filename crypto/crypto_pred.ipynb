{
  "nbformat": 4,
  "nbformat_minor": 0,
  "metadata": {
    "colab": {
      "name": "crypto_pred.ipynb",
      "version": "0.3.2",
      "provenance": []
    },
    "kernelspec": {
      "name": "python3",
      "display_name": "Python 3"
    },
    "accelerator": "GPU"
  },
  "cells": [
    {
      "metadata": {
        "id": "XIW1_un2y4XF",
        "colab_type": "code",
        "colab": {
          "base_uri": "https://localhost:8080/",
          "height": 34
        },
        "outputId": "59999b9e-e67f-4116-8ca1-f988185aa93b"
      },
      "cell_type": "code",
      "source": [
        "!ls"
      ],
      "execution_count": 1,
      "outputs": [
        {
          "output_type": "stream",
          "text": [
            "sample_data\n"
          ],
          "name": "stdout"
        }
      ]
    },
    {
      "metadata": {
        "id": "qj8BanYCzH3g",
        "colab_type": "code",
        "colab": {
          "base_uri": "https://localhost:8080/",
          "height": 122
        },
        "outputId": "d9095290-c93e-4a04-954b-3cebb606b613"
      },
      "cell_type": "code",
      "source": [
        "from google.colab import drive\n",
        "drive.mount('/content/drive')"
      ],
      "execution_count": 2,
      "outputs": [
        {
          "output_type": "stream",
          "text": [
            "Go to this URL in a browser: https://accounts.google.com/o/oauth2/auth?client_id=947318989803-6bn6qk8qdgf4n4g3pfee6491hc0brc4i.apps.googleusercontent.com&redirect_uri=urn%3Aietf%3Awg%3Aoauth%3A2.0%3Aoob&scope=email%20https%3A%2F%2Fwww.googleapis.com%2Fauth%2Fdocs.test%20https%3A%2F%2Fwww.googleapis.com%2Fauth%2Fdrive%20https%3A%2F%2Fwww.googleapis.com%2Fauth%2Fdrive.photos.readonly%20https%3A%2F%2Fwww.googleapis.com%2Fauth%2Fpeopleapi.readonly&response_type=code\n",
            "\n",
            "Enter your authorization code:\n",
            "··········\n",
            "Mounted at /content/drive\n"
          ],
          "name": "stdout"
        }
      ]
    },
    {
      "metadata": {
        "id": "W4s5pGohzpAl",
        "colab_type": "code",
        "colab": {
          "base_uri": "https://localhost:8080/",
          "height": 34
        },
        "outputId": "2f060bb3-d600-4806-ce03-7cbb7eaacde3"
      },
      "cell_type": "code",
      "source": [
        "!ls \"/content/drive/My Drive\""
      ],
      "execution_count": 3,
      "outputs": [
        {
          "output_type": "stream",
          "text": [
            "app  clouderizer  Colab Notebooks  models\n"
          ],
          "name": "stdout"
        }
      ]
    },
    {
      "metadata": {
        "id": "02WBG_oD0fmF",
        "colab_type": "text"
      },
      "cell_type": "markdown",
      "source": [
        "The above functions were executed to link the drive"
      ]
    },
    {
      "metadata": {
        "id": "hECrR7TT0czt",
        "colab_type": "code",
        "colab": {
          "base_uri": "https://localhost:8080/",
          "height": 119
        },
        "outputId": "15274076-6cf3-47ed-e3a2-fc995a579a59"
      },
      "cell_type": "code",
      "source": [
        "! pip install keras"
      ],
      "execution_count": 5,
      "outputs": [
        {
          "output_type": "stream",
          "text": [
            "Requirement already satisfied: keras in /usr/local/lib/python3.6/dist-packages (2.1.6)\n",
            "Requirement already satisfied: scipy>=0.14 in /usr/local/lib/python3.6/dist-packages (from keras) (0.19.1)\n",
            "Requirement already satisfied: six>=1.9.0 in /usr/local/lib/python3.6/dist-packages (from keras) (1.11.0)\n",
            "Requirement already satisfied: h5py in /usr/local/lib/python3.6/dist-packages (from keras) (2.8.0)\n",
            "Requirement already satisfied: numpy>=1.9.1 in /usr/local/lib/python3.6/dist-packages (from keras) (1.14.6)\n",
            "Requirement already satisfied: pyyaml in /usr/local/lib/python3.6/dist-packages (from keras) (3.13)\n"
          ],
          "name": "stdout"
        }
      ]
    },
    {
      "metadata": {
        "id": "TXokZI9z0mPu",
        "colab_type": "code",
        "colab": {
          "base_uri": "https://localhost:8080/",
          "height": 34
        },
        "outputId": "1c77d236-a7f4-4107-9cc9-72764e9307ff"
      },
      "cell_type": "code",
      "source": [
        "## to check whether the gpu is working or not.\n",
        "\n",
        "import tensorflow as tf\n",
        "tf.test.gpu_device_name()"
      ],
      "execution_count": 6,
      "outputs": [
        {
          "output_type": "execute_result",
          "data": {
            "text/plain": [
              "'/device:GPU:0'"
            ]
          },
          "metadata": {
            "tags": []
          },
          "execution_count": 6
        }
      ]
    },
    {
      "metadata": {
        "id": "Z32JoVzx2IMw",
        "colab_type": "code",
        "colab": {}
      },
      "cell_type": "code",
      "source": [
        "import pandas as pd"
      ],
      "execution_count": 0,
      "outputs": []
    },
    {
      "metadata": {
        "id": "LgXDlXfP2ZzV",
        "colab_type": "code",
        "colab": {}
      },
      "cell_type": "code",
      "source": [
        "path=\"/content/drive/My Drive/Colab Notebooks/crypto_data/\""
      ],
      "execution_count": 0,
      "outputs": []
    },
    {
      "metadata": {
        "id": "Q24bStTv2R_R",
        "colab_type": "code",
        "colab": {}
      },
      "cell_type": "code",
      "source": [
        "df=pd.read_csv(path+'LTC-USD.csv')"
      ],
      "execution_count": 0,
      "outputs": []
    },
    {
      "metadata": {
        "id": "2PFbCXT-2mnc",
        "colab_type": "code",
        "colab": {
          "base_uri": "https://localhost:8080/",
          "height": 204
        },
        "outputId": "4001eb3e-e2f5-429f-bd5c-6ab98ff8294b"
      },
      "cell_type": "code",
      "source": [
        "df.head()"
      ],
      "execution_count": 14,
      "outputs": [
        {
          "output_type": "execute_result",
          "data": {
            "text/html": [
              "<div>\n",
              "<style scoped>\n",
              "    .dataframe tbody tr th:only-of-type {\n",
              "        vertical-align: middle;\n",
              "    }\n",
              "\n",
              "    .dataframe tbody tr th {\n",
              "        vertical-align: top;\n",
              "    }\n",
              "\n",
              "    .dataframe thead th {\n",
              "        text-align: right;\n",
              "    }\n",
              "</style>\n",
              "<table border=\"1\" class=\"dataframe\">\n",
              "  <thead>\n",
              "    <tr style=\"text-align: right;\">\n",
              "      <th></th>\n",
              "      <th>1528968660</th>\n",
              "      <th>96.580002</th>\n",
              "      <th>96.589996</th>\n",
              "      <th>96.589996.1</th>\n",
              "      <th>96.580002.1</th>\n",
              "      <th>9.6472</th>\n",
              "    </tr>\n",
              "  </thead>\n",
              "  <tbody>\n",
              "    <tr>\n",
              "      <th>0</th>\n",
              "      <td>1528968720</td>\n",
              "      <td>96.449997</td>\n",
              "      <td>96.669998</td>\n",
              "      <td>96.589996</td>\n",
              "      <td>96.660004</td>\n",
              "      <td>314.387024</td>\n",
              "    </tr>\n",
              "    <tr>\n",
              "      <th>1</th>\n",
              "      <td>1528968780</td>\n",
              "      <td>96.470001</td>\n",
              "      <td>96.570000</td>\n",
              "      <td>96.570000</td>\n",
              "      <td>96.570000</td>\n",
              "      <td>77.129799</td>\n",
              "    </tr>\n",
              "    <tr>\n",
              "      <th>2</th>\n",
              "      <td>1528968840</td>\n",
              "      <td>96.449997</td>\n",
              "      <td>96.570000</td>\n",
              "      <td>96.570000</td>\n",
              "      <td>96.500000</td>\n",
              "      <td>7.216067</td>\n",
              "    </tr>\n",
              "    <tr>\n",
              "      <th>3</th>\n",
              "      <td>1528968900</td>\n",
              "      <td>96.279999</td>\n",
              "      <td>96.540001</td>\n",
              "      <td>96.500000</td>\n",
              "      <td>96.389999</td>\n",
              "      <td>524.539978</td>\n",
              "    </tr>\n",
              "    <tr>\n",
              "      <th>4</th>\n",
              "      <td>1528968960</td>\n",
              "      <td>96.459999</td>\n",
              "      <td>96.519997</td>\n",
              "      <td>96.459999</td>\n",
              "      <td>96.519997</td>\n",
              "      <td>16.991997</td>\n",
              "    </tr>\n",
              "  </tbody>\n",
              "</table>\n",
              "</div>"
            ],
            "text/plain": [
              "   1528968660  96.580002  96.589996  96.589996.1  96.580002.1      9.6472\n",
              "0  1528968720  96.449997  96.669998    96.589996    96.660004  314.387024\n",
              "1  1528968780  96.470001  96.570000    96.570000    96.570000   77.129799\n",
              "2  1528968840  96.449997  96.570000    96.570000    96.500000    7.216067\n",
              "3  1528968900  96.279999  96.540001    96.500000    96.389999  524.539978\n",
              "4  1528968960  96.459999  96.519997    96.459999    96.519997   16.991997"
            ]
          },
          "metadata": {
            "tags": []
          },
          "execution_count": 14
        }
      ]
    },
    {
      "metadata": {
        "id": "c9YqXSRs21ZA",
        "colab_type": "code",
        "colab": {
          "base_uri": "https://localhost:8080/",
          "height": 340
        },
        "outputId": "28320f05-b37f-4c56-e392-3bc26cafe376"
      },
      "cell_type": "code",
      "source": [
        "ratios=['LTC-USD','BCH-USD','BTC-USD','ETH-USD']\n",
        "\n",
        "main_df=pd.DataFrame()\n",
        "for ratio in ratios:\n",
        "    \n",
        "    print(ratio)\n",
        "    dataset=path+ratio+'.csv'\n",
        "    df=pd.read_csv(dataset,names=['time','low','high','open','close','volume'])\n",
        "    \n",
        "    ## rename the columns\n",
        "    df.rename(columns={'close':ratio+'close','volume':ratio+'volume'},inplace=True)\n",
        "    \n",
        "    df.set_index('time',inplace=True)\n",
        "    \n",
        "    df=df[[ratio+'close',ratio+'volume']]\n",
        "    \n",
        "    if len(main_df)==0:\n",
        "        main_df=df\n",
        "    else:\n",
        "        main_df=main_df.join(df)\n",
        "\n",
        "#main_df.fillna()\n",
        "print(main_df.head())"
      ],
      "execution_count": 15,
      "outputs": [
        {
          "output_type": "stream",
          "text": [
            "LTC-USD\n",
            "BCH-USD\n",
            "BTC-USD\n",
            "ETH-USD\n",
            "            LTC-USDclose  LTC-USDvolume  BCH-USDclose  BCH-USDvolume  \\\n",
            "time                                                                   \n",
            "1528968660     96.580002       9.647200    871.719971       5.675361   \n",
            "1528968720     96.660004     314.387024    870.859985      26.856577   \n",
            "1528968780     96.570000      77.129799    870.099976       1.124300   \n",
            "1528968840     96.500000       7.216067    870.789978       1.749862   \n",
            "1528968900     96.389999     524.539978    870.000000       1.680500   \n",
            "\n",
            "            BTC-USDclose  BTC-USDvolume  ETH-USDclose  ETH-USDvolume  \n",
            "time                                                                  \n",
            "1528968660   6489.549805       0.587100           NaN            NaN  \n",
            "1528968720   6487.379883       7.706374     486.01001      26.019083  \n",
            "1528968780   6479.410156       3.088252     486.00000       8.449400  \n",
            "1528968840   6479.410156       1.404100     485.75000      26.994646  \n",
            "1528968900   6479.979980       0.753000     486.00000      77.355759  \n"
          ],
          "name": "stdout"
        }
      ]
    },
    {
      "metadata": {
        "id": "uohU_DbQ3JLx",
        "colab_type": "code",
        "colab": {
          "base_uri": "https://localhost:8080/",
          "height": 297
        },
        "outputId": "8968dd3e-f42f-46fe-bb64-78ace909f985"
      },
      "cell_type": "code",
      "source": [
        "main_df.describe()"
      ],
      "execution_count": 16,
      "outputs": [
        {
          "output_type": "execute_result",
          "data": {
            "text/html": [
              "<div>\n",
              "<style scoped>\n",
              "    .dataframe tbody tr th:only-of-type {\n",
              "        vertical-align: middle;\n",
              "    }\n",
              "\n",
              "    .dataframe tbody tr th {\n",
              "        vertical-align: top;\n",
              "    }\n",
              "\n",
              "    .dataframe thead th {\n",
              "        text-align: right;\n",
              "    }\n",
              "</style>\n",
              "<table border=\"1\" class=\"dataframe\">\n",
              "  <thead>\n",
              "    <tr style=\"text-align: right;\">\n",
              "      <th></th>\n",
              "      <th>LTC-USDclose</th>\n",
              "      <th>LTC-USDvolume</th>\n",
              "      <th>BCH-USDclose</th>\n",
              "      <th>BCH-USDvolume</th>\n",
              "      <th>BTC-USDclose</th>\n",
              "      <th>BTC-USDvolume</th>\n",
              "      <th>ETH-USDclose</th>\n",
              "      <th>ETH-USDvolume</th>\n",
              "    </tr>\n",
              "  </thead>\n",
              "  <tbody>\n",
              "    <tr>\n",
              "      <th>count</th>\n",
              "      <td>101883.000000</td>\n",
              "      <td>101883.000000</td>\n",
              "      <td>91389.000000</td>\n",
              "      <td>91389.000000</td>\n",
              "      <td>96495.000000</td>\n",
              "      <td>96495.000000</td>\n",
              "      <td>101607.000000</td>\n",
              "      <td>101607.000000</td>\n",
              "    </tr>\n",
              "    <tr>\n",
              "      <th>mean</th>\n",
              "      <td>77.106538</td>\n",
              "      <td>117.740514</td>\n",
              "      <td>717.958078</td>\n",
              "      <td>11.684106</td>\n",
              "      <td>6771.628569</td>\n",
              "      <td>6.085198</td>\n",
              "      <td>421.700171</td>\n",
              "      <td>56.858349</td>\n",
              "    </tr>\n",
              "    <tr>\n",
              "      <th>std</th>\n",
              "      <td>12.665563</td>\n",
              "      <td>285.366124</td>\n",
              "      <td>111.099142</td>\n",
              "      <td>33.522667</td>\n",
              "      <td>640.753115</td>\n",
              "      <td>16.734361</td>\n",
              "      <td>74.774117</td>\n",
              "      <td>154.491608</td>\n",
              "    </tr>\n",
              "    <tr>\n",
              "      <th>min</th>\n",
              "      <td>49.560001</td>\n",
              "      <td>0.000060</td>\n",
              "      <td>473.209991</td>\n",
              "      <td>0.000002</td>\n",
              "      <td>5778.109863</td>\n",
              "      <td>0.001915</td>\n",
              "      <td>251.000000</td>\n",
              "      <td>0.000030</td>\n",
              "    </tr>\n",
              "    <tr>\n",
              "      <th>25%</th>\n",
              "      <td>72.519997</td>\n",
              "      <td>12.073304</td>\n",
              "      <td>656.150024</td>\n",
              "      <td>0.436415</td>\n",
              "      <td>6340.024902</td>\n",
              "      <td>0.842949</td>\n",
              "      <td>397.315002</td>\n",
              "      <td>5.589096</td>\n",
              "    </tr>\n",
              "    <tr>\n",
              "      <th>50%</th>\n",
              "      <td>79.900002</td>\n",
              "      <td>34.492237</td>\n",
              "      <td>731.830017</td>\n",
              "      <td>2.051119</td>\n",
              "      <td>6535.410156</td>\n",
              "      <td>2.034166</td>\n",
              "      <td>449.239990</td>\n",
              "      <td>15.776600</td>\n",
              "    </tr>\n",
              "    <tr>\n",
              "      <th>75%</th>\n",
              "      <td>84.410004</td>\n",
              "      <td>104.343212</td>\n",
              "      <td>804.489990</td>\n",
              "      <td>8.995561</td>\n",
              "      <td>7280.009766</td>\n",
              "      <td>5.026753</td>\n",
              "      <td>471.019989</td>\n",
              "      <td>46.984383</td>\n",
              "    </tr>\n",
              "    <tr>\n",
              "      <th>max</th>\n",
              "      <td>103.040001</td>\n",
              "      <td>10263.191410</td>\n",
              "      <td>927.000000</td>\n",
              "      <td>1520.833862</td>\n",
              "      <td>8482.799805</td>\n",
              "      <td>801.442993</td>\n",
              "      <td>547.000000</td>\n",
              "      <td>9310.024414</td>\n",
              "    </tr>\n",
              "  </tbody>\n",
              "</table>\n",
              "</div>"
            ],
            "text/plain": [
              "        LTC-USDclose  LTC-USDvolume  BCH-USDclose  BCH-USDvolume  \\\n",
              "count  101883.000000  101883.000000  91389.000000   91389.000000   \n",
              "mean       77.106538     117.740514    717.958078      11.684106   \n",
              "std        12.665563     285.366124    111.099142      33.522667   \n",
              "min        49.560001       0.000060    473.209991       0.000002   \n",
              "25%        72.519997      12.073304    656.150024       0.436415   \n",
              "50%        79.900002      34.492237    731.830017       2.051119   \n",
              "75%        84.410004     104.343212    804.489990       8.995561   \n",
              "max       103.040001   10263.191410    927.000000    1520.833862   \n",
              "\n",
              "       BTC-USDclose  BTC-USDvolume   ETH-USDclose  ETH-USDvolume  \n",
              "count  96495.000000   96495.000000  101607.000000  101607.000000  \n",
              "mean    6771.628569       6.085198     421.700171      56.858349  \n",
              "std      640.753115      16.734361      74.774117     154.491608  \n",
              "min     5778.109863       0.001915     251.000000       0.000030  \n",
              "25%     6340.024902       0.842949     397.315002       5.589096  \n",
              "50%     6535.410156       2.034166     449.239990      15.776600  \n",
              "75%     7280.009766       5.026753     471.019989      46.984383  \n",
              "max     8482.799805     801.442993     547.000000    9310.024414  "
            ]
          },
          "metadata": {
            "tags": []
          },
          "execution_count": 16
        }
      ]
    },
    {
      "metadata": {
        "id": "RsKbE8YO3N_g",
        "colab_type": "code",
        "colab": {
          "base_uri": "https://localhost:8080/",
          "height": 235
        },
        "outputId": "544d0196-ca70-413e-f3de-40e498f97a1f"
      },
      "cell_type": "code",
      "source": [
        "## as we need to make uniform dataset we fill the gaps\n",
        "main_df.fillna(method='ffill',inplace=True)  # if there are gaps in data, use previously known values\n",
        "main_df.dropna(inplace=True)\n",
        "main_df.head()\n"
      ],
      "execution_count": 17,
      "outputs": [
        {
          "output_type": "execute_result",
          "data": {
            "text/html": [
              "<div>\n",
              "<style scoped>\n",
              "    .dataframe tbody tr th:only-of-type {\n",
              "        vertical-align: middle;\n",
              "    }\n",
              "\n",
              "    .dataframe tbody tr th {\n",
              "        vertical-align: top;\n",
              "    }\n",
              "\n",
              "    .dataframe thead th {\n",
              "        text-align: right;\n",
              "    }\n",
              "</style>\n",
              "<table border=\"1\" class=\"dataframe\">\n",
              "  <thead>\n",
              "    <tr style=\"text-align: right;\">\n",
              "      <th></th>\n",
              "      <th>LTC-USDclose</th>\n",
              "      <th>LTC-USDvolume</th>\n",
              "      <th>BCH-USDclose</th>\n",
              "      <th>BCH-USDvolume</th>\n",
              "      <th>BTC-USDclose</th>\n",
              "      <th>BTC-USDvolume</th>\n",
              "      <th>ETH-USDclose</th>\n",
              "      <th>ETH-USDvolume</th>\n",
              "    </tr>\n",
              "    <tr>\n",
              "      <th>time</th>\n",
              "      <th></th>\n",
              "      <th></th>\n",
              "      <th></th>\n",
              "      <th></th>\n",
              "      <th></th>\n",
              "      <th></th>\n",
              "      <th></th>\n",
              "      <th></th>\n",
              "    </tr>\n",
              "  </thead>\n",
              "  <tbody>\n",
              "    <tr>\n",
              "      <th>1528968720</th>\n",
              "      <td>96.660004</td>\n",
              "      <td>314.387024</td>\n",
              "      <td>870.859985</td>\n",
              "      <td>26.856577</td>\n",
              "      <td>6487.379883</td>\n",
              "      <td>7.706374</td>\n",
              "      <td>486.01001</td>\n",
              "      <td>26.019083</td>\n",
              "    </tr>\n",
              "    <tr>\n",
              "      <th>1528968780</th>\n",
              "      <td>96.570000</td>\n",
              "      <td>77.129799</td>\n",
              "      <td>870.099976</td>\n",
              "      <td>1.124300</td>\n",
              "      <td>6479.410156</td>\n",
              "      <td>3.088252</td>\n",
              "      <td>486.00000</td>\n",
              "      <td>8.449400</td>\n",
              "    </tr>\n",
              "    <tr>\n",
              "      <th>1528968840</th>\n",
              "      <td>96.500000</td>\n",
              "      <td>7.216067</td>\n",
              "      <td>870.789978</td>\n",
              "      <td>1.749862</td>\n",
              "      <td>6479.410156</td>\n",
              "      <td>1.404100</td>\n",
              "      <td>485.75000</td>\n",
              "      <td>26.994646</td>\n",
              "    </tr>\n",
              "    <tr>\n",
              "      <th>1528968900</th>\n",
              "      <td>96.389999</td>\n",
              "      <td>524.539978</td>\n",
              "      <td>870.000000</td>\n",
              "      <td>1.680500</td>\n",
              "      <td>6479.979980</td>\n",
              "      <td>0.753000</td>\n",
              "      <td>486.00000</td>\n",
              "      <td>77.355759</td>\n",
              "    </tr>\n",
              "    <tr>\n",
              "      <th>1528968960</th>\n",
              "      <td>96.519997</td>\n",
              "      <td>16.991997</td>\n",
              "      <td>869.989990</td>\n",
              "      <td>1.669014</td>\n",
              "      <td>6480.000000</td>\n",
              "      <td>1.490900</td>\n",
              "      <td>486.00000</td>\n",
              "      <td>7.503300</td>\n",
              "    </tr>\n",
              "  </tbody>\n",
              "</table>\n",
              "</div>"
            ],
            "text/plain": [
              "            LTC-USDclose  LTC-USDvolume  BCH-USDclose  BCH-USDvolume  \\\n",
              "time                                                                   \n",
              "1528968720     96.660004     314.387024    870.859985      26.856577   \n",
              "1528968780     96.570000      77.129799    870.099976       1.124300   \n",
              "1528968840     96.500000       7.216067    870.789978       1.749862   \n",
              "1528968900     96.389999     524.539978    870.000000       1.680500   \n",
              "1528968960     96.519997      16.991997    869.989990       1.669014   \n",
              "\n",
              "            BTC-USDclose  BTC-USDvolume  ETH-USDclose  ETH-USDvolume  \n",
              "time                                                                  \n",
              "1528968720   6487.379883       7.706374     486.01001      26.019083  \n",
              "1528968780   6479.410156       3.088252     486.00000       8.449400  \n",
              "1528968840   6479.410156       1.404100     485.75000      26.994646  \n",
              "1528968900   6479.979980       0.753000     486.00000      77.355759  \n",
              "1528968960   6480.000000       1.490900     486.00000       7.503300  "
            ]
          },
          "metadata": {
            "tags": []
          },
          "execution_count": 17
        }
      ]
    },
    {
      "metadata": {
        "id": "fZtH-Gim3Tyi",
        "colab_type": "code",
        "colab": {}
      },
      "cell_type": "code",
      "source": [
        "seq_len=60\n",
        "future_pred=3\n",
        "## for now we will predict the prices of the BTC-USD\n",
        "ratio_to_predict='BTC-USD'"
      ],
      "execution_count": 0,
      "outputs": []
    },
    {
      "metadata": {
        "id": "kkZkaiqy3W68",
        "colab_type": "code",
        "colab": {}
      },
      "cell_type": "code",
      "source": [
        "def classify(curr,fut):\n",
        "    if(fut>curr):\n",
        "        return 1\n",
        "    else:\n",
        "        return 0"
      ],
      "execution_count": 0,
      "outputs": []
    },
    {
      "metadata": {
        "id": "_89B1ter3YXu",
        "colab_type": "code",
        "colab": {}
      },
      "cell_type": "code",
      "source": [
        "main_df['future']=main_df[ratio_to_predict+'close'].shift(-future_pred)"
      ],
      "execution_count": 0,
      "outputs": []
    },
    {
      "metadata": {
        "id": "BZzTfPKk3aUW",
        "colab_type": "code",
        "colab": {}
      },
      "cell_type": "code",
      "source": [
        "main_df['target']=list(map(classify,main_df[ratio_to_predict+'close'],main_df['future']))"
      ],
      "execution_count": 0,
      "outputs": []
    },
    {
      "metadata": {
        "id": "iLDDXLGK3b-U",
        "colab_type": "code",
        "colab": {
          "base_uri": "https://localhost:8080/",
          "height": 235
        },
        "outputId": "8e0bc0e5-b608-443a-f036-e076018f6ca4"
      },
      "cell_type": "code",
      "source": [
        "main_df.head()"
      ],
      "execution_count": 22,
      "outputs": [
        {
          "output_type": "execute_result",
          "data": {
            "text/html": [
              "<div>\n",
              "<style scoped>\n",
              "    .dataframe tbody tr th:only-of-type {\n",
              "        vertical-align: middle;\n",
              "    }\n",
              "\n",
              "    .dataframe tbody tr th {\n",
              "        vertical-align: top;\n",
              "    }\n",
              "\n",
              "    .dataframe thead th {\n",
              "        text-align: right;\n",
              "    }\n",
              "</style>\n",
              "<table border=\"1\" class=\"dataframe\">\n",
              "  <thead>\n",
              "    <tr style=\"text-align: right;\">\n",
              "      <th></th>\n",
              "      <th>LTC-USDclose</th>\n",
              "      <th>LTC-USDvolume</th>\n",
              "      <th>BCH-USDclose</th>\n",
              "      <th>BCH-USDvolume</th>\n",
              "      <th>BTC-USDclose</th>\n",
              "      <th>BTC-USDvolume</th>\n",
              "      <th>ETH-USDclose</th>\n",
              "      <th>ETH-USDvolume</th>\n",
              "      <th>future</th>\n",
              "      <th>target</th>\n",
              "    </tr>\n",
              "    <tr>\n",
              "      <th>time</th>\n",
              "      <th></th>\n",
              "      <th></th>\n",
              "      <th></th>\n",
              "      <th></th>\n",
              "      <th></th>\n",
              "      <th></th>\n",
              "      <th></th>\n",
              "      <th></th>\n",
              "      <th></th>\n",
              "      <th></th>\n",
              "    </tr>\n",
              "  </thead>\n",
              "  <tbody>\n",
              "    <tr>\n",
              "      <th>1528968720</th>\n",
              "      <td>96.660004</td>\n",
              "      <td>314.387024</td>\n",
              "      <td>870.859985</td>\n",
              "      <td>26.856577</td>\n",
              "      <td>6487.379883</td>\n",
              "      <td>7.706374</td>\n",
              "      <td>486.01001</td>\n",
              "      <td>26.019083</td>\n",
              "      <td>6479.979980</td>\n",
              "      <td>0</td>\n",
              "    </tr>\n",
              "    <tr>\n",
              "      <th>1528968780</th>\n",
              "      <td>96.570000</td>\n",
              "      <td>77.129799</td>\n",
              "      <td>870.099976</td>\n",
              "      <td>1.124300</td>\n",
              "      <td>6479.410156</td>\n",
              "      <td>3.088252</td>\n",
              "      <td>486.00000</td>\n",
              "      <td>8.449400</td>\n",
              "      <td>6480.000000</td>\n",
              "      <td>1</td>\n",
              "    </tr>\n",
              "    <tr>\n",
              "      <th>1528968840</th>\n",
              "      <td>96.500000</td>\n",
              "      <td>7.216067</td>\n",
              "      <td>870.789978</td>\n",
              "      <td>1.749862</td>\n",
              "      <td>6479.410156</td>\n",
              "      <td>1.404100</td>\n",
              "      <td>485.75000</td>\n",
              "      <td>26.994646</td>\n",
              "      <td>6477.220215</td>\n",
              "      <td>0</td>\n",
              "    </tr>\n",
              "    <tr>\n",
              "      <th>1528968900</th>\n",
              "      <td>96.389999</td>\n",
              "      <td>524.539978</td>\n",
              "      <td>870.000000</td>\n",
              "      <td>1.680500</td>\n",
              "      <td>6479.979980</td>\n",
              "      <td>0.753000</td>\n",
              "      <td>486.00000</td>\n",
              "      <td>77.355759</td>\n",
              "      <td>6480.000000</td>\n",
              "      <td>1</td>\n",
              "    </tr>\n",
              "    <tr>\n",
              "      <th>1528968960</th>\n",
              "      <td>96.519997</td>\n",
              "      <td>16.991997</td>\n",
              "      <td>869.989990</td>\n",
              "      <td>1.669014</td>\n",
              "      <td>6480.000000</td>\n",
              "      <td>1.490900</td>\n",
              "      <td>486.00000</td>\n",
              "      <td>7.503300</td>\n",
              "      <td>6479.990234</td>\n",
              "      <td>0</td>\n",
              "    </tr>\n",
              "  </tbody>\n",
              "</table>\n",
              "</div>"
            ],
            "text/plain": [
              "            LTC-USDclose  LTC-USDvolume  BCH-USDclose  BCH-USDvolume  \\\n",
              "time                                                                   \n",
              "1528968720     96.660004     314.387024    870.859985      26.856577   \n",
              "1528968780     96.570000      77.129799    870.099976       1.124300   \n",
              "1528968840     96.500000       7.216067    870.789978       1.749862   \n",
              "1528968900     96.389999     524.539978    870.000000       1.680500   \n",
              "1528968960     96.519997      16.991997    869.989990       1.669014   \n",
              "\n",
              "            BTC-USDclose  BTC-USDvolume  ETH-USDclose  ETH-USDvolume  \\\n",
              "time                                                                   \n",
              "1528968720   6487.379883       7.706374     486.01001      26.019083   \n",
              "1528968780   6479.410156       3.088252     486.00000       8.449400   \n",
              "1528968840   6479.410156       1.404100     485.75000      26.994646   \n",
              "1528968900   6479.979980       0.753000     486.00000      77.355759   \n",
              "1528968960   6480.000000       1.490900     486.00000       7.503300   \n",
              "\n",
              "                 future  target  \n",
              "time                             \n",
              "1528968720  6479.979980       0  \n",
              "1528968780  6480.000000       1  \n",
              "1528968840  6477.220215       0  \n",
              "1528968900  6480.000000       1  \n",
              "1528968960  6479.990234       0  "
            ]
          },
          "metadata": {
            "tags": []
          },
          "execution_count": 22
        }
      ]
    },
    {
      "metadata": {
        "id": "IUDuCJ-13dhq",
        "colab_type": "code",
        "colab": {}
      },
      "cell_type": "code",
      "source": [
        "times=sorted(main_df.index.values)    #Return a new list containing all items from the iterable in ascending order.\n",
        "last_5pct=sorted(main_df.index.values)[-int(0.05*len(times))]   ## get the last 5% of times.\n",
        "\n",
        "# here validation set is 5% of the total dataset.\n",
        "validation_main_df=main_df[main_df.index>=last_5pct]\n",
        "main_df=main_df[main_df.index<last_5pct]"
      ],
      "execution_count": 0,
      "outputs": []
    },
    {
      "metadata": {
        "id": "Gh-7mGbM3i32",
        "colab_type": "code",
        "colab": {}
      },
      "cell_type": "code",
      "source": [
        "from sklearn import preprocessing"
      ],
      "execution_count": 0,
      "outputs": []
    },
    {
      "metadata": {
        "id": "g7-ia_nD3nIw",
        "colab_type": "code",
        "colab": {}
      },
      "cell_type": "code",
      "source": [
        "import numpy as np"
      ],
      "execution_count": 0,
      "outputs": []
    },
    {
      "metadata": {
        "id": "98d42qmt3_4m",
        "colab_type": "code",
        "colab": {}
      },
      "cell_type": "code",
      "source": [
        "from collections import deque"
      ],
      "execution_count": 0,
      "outputs": []
    },
    {
      "metadata": {
        "id": "4niXKug03qvi",
        "colab_type": "code",
        "colab": {}
      },
      "cell_type": "code",
      "source": [
        "def preprocess(df):\n",
        "    df=df.drop('future',1)\n",
        "    \n",
        "    for col in df.columns:\n",
        "        if col!='target':\n",
        "            df[col]=df[col].pct_change() \n",
        "        # pct change \"normalizes\" the different currencies (each crypto coin has vastly diff values, we're really \n",
        "        #                                                   more interested in the other coin's movements)\n",
        "            \n",
        "            ## there will be some zero after this and infinity.\n",
        "            df[col]=df[col].replace(np.inf,np.nan)\n",
        "            df.dropna(inplace=True)\n",
        "            \n",
        "            df[col]=preprocessing.scale(df[col].values)  # scale between 0 and 1.\n",
        "            \n",
        "    df.dropna(inplace=True)  ## clearing up any nans left.\n",
        "   \n",
        "    ## creating the sequence\n",
        "    sequential_data=[]\n",
        "    prev=deque(maxlen=seq_len)\n",
        "    # These will be our actual sequences. \n",
        "    # They are made with deque, which keeps the maximum length by popping out older values as new ones come in.\n",
        "\n",
        "    for i in df.values:\n",
        "        prev.append([n for n in i[:-1]])\n",
        "        if len(prev)==seq_len:\n",
        "            sequential_data.append([np.array(prev),i[-1]])\n",
        "\n",
        "    random.shuffle(sequential_data)\n",
        "    \n",
        "    buys=[]\n",
        "    sells=[]\n",
        "\n",
        "    ## balancing the data set\n",
        "    for seq,target in sequential_data:\n",
        "        if(target==0):  ## if it's not a buy.\n",
        "            sells.append([seq,target])\n",
        "        else:\n",
        "            buys.append([seq,target])\n",
        "\n",
        "    random.shuffle(sells)\n",
        "    random.shuffle(buys)\n",
        "\n",
        "    lower=min(len(buys),len(sells))\n",
        "\n",
        "    buys=buys[:lower]\n",
        "    sells=sells[:lower]\n",
        "\n",
        "    sequential_data=buys+sells\n",
        "    random.shuffle(sequential_data)\n",
        "    \n",
        "    ## splitting the data into training and testing set.\n",
        "    X=[]\n",
        "    y=[]\n",
        "    for seq,target in sequential_data:\n",
        "        X.append(seq)\n",
        "        y.append(target)\n",
        "\n",
        "    return np.array(X),y"
      ],
      "execution_count": 0,
      "outputs": []
    },
    {
      "metadata": {
        "id": "097uLQI-4HUZ",
        "colab_type": "code",
        "colab": {}
      },
      "cell_type": "code",
      "source": [
        "import random"
      ],
      "execution_count": 0,
      "outputs": []
    },
    {
      "metadata": {
        "id": "Sn-fSfoc34zf",
        "colab_type": "code",
        "colab": {}
      },
      "cell_type": "code",
      "source": [
        "train_x,train_y=preprocess(main_df)\n",
        "validation_x,validation_y=preprocess(validation_main_df)"
      ],
      "execution_count": 0,
      "outputs": []
    },
    {
      "metadata": {
        "id": "4VJMGBSg37XS",
        "colab_type": "code",
        "colab": {
          "base_uri": "https://localhost:8080/",
          "height": 68
        },
        "outputId": "9638f4e2-9f0a-4e0a-eac3-8f7f7858509e"
      },
      "cell_type": "code",
      "source": [
        "print('Train data:{} , validation:{}'.format(len(train_x),len(validation_x)))\n",
        "print('Dont buy:{}, buys:{}'.format(train_y.count(0),train_y.count(1)))\n",
        "print('validation dont buys:{}   ,  validation buys:{}'.format(validation_y.count(0),validation_y.count(1)))"
      ],
      "execution_count": 33,
      "outputs": [
        {
          "output_type": "stream",
          "text": [
            "Train data:82032 , validation:4688\n",
            "Dont buy:41016, buys:41016\n",
            "validation dont buys:2344   ,  validation buys:2344\n"
          ],
          "name": "stdout"
        }
      ]
    },
    {
      "metadata": {
        "id": "DfWPWlg94M9s",
        "colab_type": "code",
        "colab": {}
      },
      "cell_type": "code",
      "source": [
        "import time\n",
        "\n",
        "epochs=10\n",
        "batch_size=64\n",
        "name='{}--seq--{}--pred-{}'.format(seq_len,future_pred,int(time.time()))"
      ],
      "execution_count": 0,
      "outputs": []
    },
    {
      "metadata": {
        "id": "xkqwx1U14SSj",
        "colab_type": "code",
        "colab": {}
      },
      "cell_type": "code",
      "source": [
        "import tensorflow as tf\n",
        "from tensorflow.keras.models import Sequential\n",
        "from tensorflow.keras.layers import Dense, Dropout, LSTM, BatchNormalization,CuDNNLSTM\n",
        "from tensorflow.keras.callbacks import TensorBoard\n",
        "from tensorflow.keras.callbacks import ModelCheckpoint"
      ],
      "execution_count": 0,
      "outputs": []
    },
    {
      "metadata": {
        "id": "bSxWZnMb4V6f",
        "colab_type": "code",
        "colab": {}
      },
      "cell_type": "code",
      "source": [
        "model = Sequential()\n",
        "model.add(CuDNNLSTM(128, input_shape=(train_x.shape[1:]), return_sequences=True))\n",
        "model.add(Dropout(0.2))\n",
        "model.add(BatchNormalization())  #normalizes activation outputs, same reason you want to normalize your input data.\n",
        "\n",
        "model.add(CuDNNLSTM(128, return_sequences=True))\n",
        "model.add(Dropout(0.1))\n",
        "model.add(BatchNormalization())\n",
        "\n",
        "model.add(CuDNNLSTM(128))\n",
        "model.add(Dropout(0.2))\n",
        "model.add(BatchNormalization())\n",
        "\n",
        "model.add(Dense(32, activation='relu'))\n",
        "model.add(Dropout(0.2))\n",
        "\n",
        "model.add(Dense(2, activation='softmax'))"
      ],
      "execution_count": 0,
      "outputs": []
    },
    {
      "metadata": {
        "id": "ZTaGG8RK4Ycl",
        "colab_type": "code",
        "colab": {}
      },
      "cell_type": "code",
      "source": [
        "opt=tf.keras.optimizers.Adam(lr=0.001,decay=1e-6)\n",
        "model.compile(loss='sparse_categorical_crossentropy',optimizer=opt,metrics=['accuracy'])"
      ],
      "execution_count": 0,
      "outputs": []
    },
    {
      "metadata": {
        "id": "18m_z6N85C5f",
        "colab_type": "text"
      },
      "cell_type": "markdown",
      "source": [
        "# Running tensorboard on google cloud"
      ]
    },
    {
      "metadata": {
        "id": "8dRF1VgF4iBG",
        "colab_type": "code",
        "colab": {
          "base_uri": "https://localhost:8080/",
          "height": 102
        },
        "outputId": "6439f8ab-d9e5-45fe-990f-51bbef6b1f86"
      },
      "cell_type": "code",
      "source": [
        "# You can change the directory name\n",
        "LOG_DIR = 'tb_logs'\n",
        "\n",
        "!wget https://bin.equinox.io/c/4VmDzA7iaHb/ngrok-stable-linux-amd64.zip\n",
        "!unzip ngrok-stable-linux-amd64.zip\n",
        "\n",
        "import os\n",
        "if not os.path.exists(LOG_DIR):\n",
        "  os.makedirs(LOG_DIR)\n",
        "  \n",
        "get_ipython().system_raw(\n",
        "    'tensorboard --logdir {} --host 0.0.0.0 --port 6006 &'\n",
        "    .format(LOG_DIR))\n",
        "\n",
        "get_ipython().system_raw('./ngrok http 6006 &')\n",
        "\n",
        "!curl -s http://localhost:4040/api/tunnels | python3 -c \\\n",
        "    \"import sys, json; print(json.load(sys.stdin)['tunnels'][0]['public_url'])\""
      ],
      "execution_count": 48,
      "outputs": [
        {
          "output_type": "stream",
          "text": [
            "\n",
            "Redirecting output to ‘wget-log.1’.\n",
            "Archive:  ngrok-stable-linux-amd64.zip\n",
            "replace ngrok? [y]es, [n]o, [A]ll, [N]one, [r]ename: n\n",
            "http://6fe44d67.ngrok.io\n"
          ],
          "name": "stdout"
        }
      ]
    },
    {
      "metadata": {
        "id": "OyzOvupE6SMR",
        "colab_type": "code",
        "colab": {}
      },
      "cell_type": "code",
      "source": [
        "from keras.callbacks import TensorBoard\n",
        "tensorboard = TensorBoard(log_dir='tb_logs', histogram_freq=1,\n",
        "                         write_graph=True,\n",
        "                         write_grads=True,\n",
        "                         batch_size=batch_size,\n",
        "                         write_images=True)"
      ],
      "execution_count": 0,
      "outputs": []
    },
    {
      "metadata": {
        "id": "bNg_Zc_D5JnA",
        "colab_type": "code",
        "colab": {}
      },
      "cell_type": "code",
      "source": [
        "filepath=\"RNN_Final-{epoch:02d}-{val_acc:.3f}\"  # unique file name that will include the epoch and the validation acc for that epoch\n",
        "checkpoint = ModelCheckpoint(\"models/{}.model\".format(filepath, monitor='val_acc', verbose=1, save_best_only=True, mode='max')) # saves only the best ones"
      ],
      "execution_count": 0,
      "outputs": []
    },
    {
      "metadata": {
        "id": "hk2jBdI45tpF",
        "colab_type": "code",
        "colab": {
          "base_uri": "https://localhost:8080/",
          "height": 374
        },
        "outputId": "0fecb071-2115-45ad-a34f-71516d12d7b6"
      },
      "cell_type": "code",
      "source": [
        "model = Sequential()\n",
        "model.add(CuDNNLSTM(128, input_shape=(train_x.shape[1:]), return_sequences=True))\n",
        "model.add(Dropout(0.2))\n",
        "model.add(BatchNormalization())\n",
        "\n",
        "model.add(CuDNNLSTM(128, return_sequences=True))\n",
        "model.add(Dropout(0.1))\n",
        "model.add(BatchNormalization())\n",
        "\n",
        "model.add(CuDNNLSTM(128))\n",
        "model.add(Dropout(0.2))\n",
        "model.add(BatchNormalization())\n",
        "\n",
        "model.add(Dense(32, activation='relu'))\n",
        "model.add(Dropout(0.2))\n",
        "\n",
        "model.add(Dense(2, activation='softmax'))\n",
        "\n",
        "\n",
        "opt = tf.keras.optimizers.Adam(lr=0.001, decay=1e-6)\n",
        "\n",
        "# Compile model\n",
        "model.compile(\n",
        "    loss='sparse_categorical_crossentropy',\n",
        "    optimizer=opt,\n",
        "    metrics=['accuracy']\n",
        ")\n",
        "\n",
        "\n",
        "filepath = \"RNN_Final-{epoch:02d}-{val_acc:.3f}\"  # unique file name that will include the epoch and the validation acc for that epoch\n",
        "checkpoint = ModelCheckpoint(\"models/{}.model\".format(filepath, monitor='val_acc', verbose=1, save_best_only=True, mode='max')) # saves only the best ones\n",
        "\n",
        "# Train model\n",
        "history = model.fit(\n",
        "    train_x, train_y,\n",
        "    batch_size=batch_size,\n",
        "    epochs=epochs,\n",
        "    validation_data=(validation_x, validation_y),\n",
        "    #callbacks=[tensorboard, checkpoint],\n",
        ")"
      ],
      "execution_count": 54,
      "outputs": [
        {
          "output_type": "stream",
          "text": [
            "Train on 82032 samples, validate on 4688 samples\n",
            "Epoch 1/10\n",
            "82032/82032 [==============================] - 98s 1ms/step - loss: 0.7068 - acc: 0.5047 - val_loss: 0.6931 - val_acc: 0.5034\n",
            "Epoch 2/10\n",
            "82032/82032 [==============================] - 89s 1ms/step - loss: 0.6834 - acc: 0.5413 - val_loss: 1.2699 - val_acc: 0.5207\n",
            "Epoch 3/10\n",
            "82032/82032 [==============================] - 88s 1ms/step - loss: 0.6528 - acc: 0.5876 - val_loss: 0.6810 - val_acc: 0.5595\n",
            "Epoch 4/10\n",
            "82032/82032 [==============================] - 91s 1ms/step - loss: 0.6467 - acc: 0.5970 - val_loss: 0.6774 - val_acc: 0.5578\n",
            "Epoch 5/10\n",
            "82032/82032 [==============================] - 89s 1ms/step - loss: 0.6437 - acc: 0.6040 - val_loss: 0.6860 - val_acc: 0.5459\n",
            "Epoch 6/10\n",
            "82032/82032 [==============================] - 91s 1ms/step - loss: 0.6426 - acc: 0.6040 - val_loss: 0.6886 - val_acc: 0.5403\n",
            "Epoch 7/10\n",
            "82032/82032 [==============================] - 92s 1ms/step - loss: 0.6396 - acc: 0.6093 - val_loss: 0.6753 - val_acc: 0.5749\n",
            "Epoch 8/10\n",
            "82032/82032 [==============================] - 90s 1ms/step - loss: 0.6395 - acc: 0.6086 - val_loss: 0.6810 - val_acc: 0.5683\n",
            "Epoch 9/10\n",
            "82032/82032 [==============================] - 88s 1ms/step - loss: 0.6363 - acc: 0.6135 - val_loss: 0.6776 - val_acc: 0.5753\n",
            "Epoch 10/10\n",
            "82032/82032 [==============================] - 91s 1ms/step - loss: 0.6347 - acc: 0.6166 - val_loss: 0.6840 - val_acc: 0.5488\n"
          ],
          "name": "stdout"
        }
      ]
    },
    {
      "metadata": {
        "id": "LRYorZEo_dO3",
        "colab_type": "code",
        "colab": {
          "base_uri": "https://localhost:8080/",
          "height": 51
        },
        "outputId": "efced464-7ae0-4527-b80e-240ccc2643dc"
      },
      "cell_type": "code",
      "source": [
        "## score of the model\n",
        "score=model.evaluate(validation_x,validation_y,verbose=0)\n",
        "print('Test loss:',score[0])\n",
        "print('Test accuracy:',score[1])\n"
      ],
      "execution_count": 55,
      "outputs": [
        {
          "output_type": "stream",
          "text": [
            "Test loss: 0.6839717988674958\n",
            "Test accuracy: 0.5488481228668942\n"
          ],
          "name": "stdout"
        }
      ]
    },
    {
      "metadata": {
        "id": "UmEXOrM4Uz0u",
        "colab_type": "code",
        "colab": {}
      },
      "cell_type": "code",
      "source": [
        "#saving the model\n",
        "model.save('/content/drive/My Drive/Colab Notebooks/models_{}'.format(name))"
      ],
      "execution_count": 0,
      "outputs": []
    },
    {
      "metadata": {
        "id": "B5e56Co7U9hi",
        "colab_type": "code",
        "colab": {}
      },
      "cell_type": "code",
      "source": [
        ""
      ],
      "execution_count": 0,
      "outputs": []
    }
  ]
}