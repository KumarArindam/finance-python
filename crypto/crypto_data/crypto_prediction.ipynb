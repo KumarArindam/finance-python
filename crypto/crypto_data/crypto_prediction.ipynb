{
 "cells": [
  {
   "cell_type": "code",
   "execution_count": 4,
   "metadata": {
    "collapsed": true
   },
   "outputs": [],
   "source": [
    "import pandas as pd\n",
    "%matplotlib inline"
   ]
  },
  {
   "cell_type": "code",
   "execution_count": 6,
   "metadata": {
    "collapsed": false
   },
   "outputs": [],
   "source": [
    "df=pd.read_csv('LTC-USD.csv',names=['time','low','high','open','close','volume'])"
   ]
  },
  {
   "cell_type": "code",
   "execution_count": 7,
   "metadata": {
    "collapsed": false,
    "scrolled": true
   },
   "outputs": [
    {
     "data": {
      "text/html": [
       "<div>\n",
       "<style scoped>\n",
       "    .dataframe tbody tr th:only-of-type {\n",
       "        vertical-align: middle;\n",
       "    }\n",
       "\n",
       "    .dataframe tbody tr th {\n",
       "        vertical-align: top;\n",
       "    }\n",
       "\n",
       "    .dataframe thead th {\n",
       "        text-align: right;\n",
       "    }\n",
       "</style>\n",
       "<table border=\"1\" class=\"dataframe\">\n",
       "  <thead>\n",
       "    <tr style=\"text-align: right;\">\n",
       "      <th></th>\n",
       "      <th>time</th>\n",
       "      <th>low</th>\n",
       "      <th>high</th>\n",
       "      <th>open</th>\n",
       "      <th>close</th>\n",
       "      <th>volume</th>\n",
       "    </tr>\n",
       "  </thead>\n",
       "  <tbody>\n",
       "    <tr>\n",
       "      <th>0</th>\n",
       "      <td>1528968660</td>\n",
       "      <td>96.580002</td>\n",
       "      <td>96.589996</td>\n",
       "      <td>96.589996</td>\n",
       "      <td>96.580002</td>\n",
       "      <td>9.647200</td>\n",
       "    </tr>\n",
       "    <tr>\n",
       "      <th>1</th>\n",
       "      <td>1528968720</td>\n",
       "      <td>96.449997</td>\n",
       "      <td>96.669998</td>\n",
       "      <td>96.589996</td>\n",
       "      <td>96.660004</td>\n",
       "      <td>314.387024</td>\n",
       "    </tr>\n",
       "    <tr>\n",
       "      <th>2</th>\n",
       "      <td>1528968780</td>\n",
       "      <td>96.470001</td>\n",
       "      <td>96.570000</td>\n",
       "      <td>96.570000</td>\n",
       "      <td>96.570000</td>\n",
       "      <td>77.129799</td>\n",
       "    </tr>\n",
       "    <tr>\n",
       "      <th>3</th>\n",
       "      <td>1528968840</td>\n",
       "      <td>96.449997</td>\n",
       "      <td>96.570000</td>\n",
       "      <td>96.570000</td>\n",
       "      <td>96.500000</td>\n",
       "      <td>7.216067</td>\n",
       "    </tr>\n",
       "    <tr>\n",
       "      <th>4</th>\n",
       "      <td>1528968900</td>\n",
       "      <td>96.279999</td>\n",
       "      <td>96.540001</td>\n",
       "      <td>96.500000</td>\n",
       "      <td>96.389999</td>\n",
       "      <td>524.539978</td>\n",
       "    </tr>\n",
       "  </tbody>\n",
       "</table>\n",
       "</div>"
      ],
      "text/plain": [
       "         time        low       high       open      close      volume\n",
       "0  1528968660  96.580002  96.589996  96.589996  96.580002    9.647200\n",
       "1  1528968720  96.449997  96.669998  96.589996  96.660004  314.387024\n",
       "2  1528968780  96.470001  96.570000  96.570000  96.570000   77.129799\n",
       "3  1528968840  96.449997  96.570000  96.570000  96.500000    7.216067\n",
       "4  1528968900  96.279999  96.540001  96.500000  96.389999  524.539978"
      ]
     },
     "execution_count": 7,
     "metadata": {},
     "output_type": "execute_result"
    }
   ],
   "source": [
    "df.head()"
   ]
  },
  {
   "cell_type": "code",
   "execution_count": 25,
   "metadata": {
    "collapsed": false
   },
   "outputs": [
    {
     "name": "stdout",
     "output_type": "stream",
     "text": [
      "LTC-USD\n",
      "BCH-USD\n",
      "BTC-USD\n",
      "ETH-USD\n",
      "            LTC-USDclose  LTC-USDvolume  BCH-USDclose  BCH-USDvolume  \\\n",
      "time                                                                   \n",
      "1528968660     96.580002       9.647200    871.719971       5.675361   \n",
      "1528968720     96.660004     314.387024    870.859985      26.856577   \n",
      "1528968780     96.570000      77.129799    870.099976       1.124300   \n",
      "1528968840     96.500000       7.216067    870.789978       1.749862   \n",
      "1528968900     96.389999     524.539978    870.000000       1.680500   \n",
      "\n",
      "            BTC-USDclose  BTC-USDvolume  ETH-USDclose  ETH-USDvolume  \n",
      "time                                                                  \n",
      "1528968660   6489.549805       0.587100           NaN            NaN  \n",
      "1528968720   6487.379883       7.706374     486.01001      26.019083  \n",
      "1528968780   6479.410156       3.088252     486.00000       8.449400  \n",
      "1528968840   6479.410156       1.404100     485.75000      26.994646  \n",
      "1528968900   6479.979980       0.753000     486.00000      77.355759  \n"
     ]
    }
   ],
   "source": [
    "ratios=['LTC-USD','BCH-USD','BTC-USD','ETH-USD']\n",
    "\n",
    "main_df=pd.DataFrame()\n",
    "for ratio in ratios:\n",
    "    \n",
    "    print(ratio)\n",
    "    dataset=ratio+'.csv'\n",
    "    df=pd.read_csv(dataset,names=['time','low','high','open','close','volume'])\n",
    "    \n",
    "    ## rename the columns\n",
    "    df.rename(columns={'close':ratio+'close','volume':ratio+'volume'},inplace=True)\n",
    "    \n",
    "    df.set_index('time',inplace=True)\n",
    "    \n",
    "    df=df[[ratio+'close',ratio+'volume']]\n",
    "    \n",
    "    if len(main_df)==0:\n",
    "        main_df=df\n",
    "    else:\n",
    "        main_df=main_df.join(df)\n",
    "\n",
    "#main_df.fillna()\n",
    "print(main_df.head())"
   ]
  },
  {
   "cell_type": "code",
   "execution_count": 26,
   "metadata": {
    "collapsed": false
   },
   "outputs": [
    {
     "name": "stdout",
     "output_type": "stream",
     "text": [
      "<class 'pandas.core.frame.DataFrame'>\n",
      "Int64Index: 101883 entries, 1528968660 to 1535215260\n",
      "Data columns (total 8 columns):\n",
      "LTC-USDclose     101883 non-null float64\n",
      "LTC-USDvolume    101883 non-null float64\n",
      "BCH-USDclose     91389 non-null float64\n",
      "BCH-USDvolume    91389 non-null float64\n",
      "BTC-USDclose     96495 non-null float64\n",
      "BTC-USDvolume    96495 non-null float64\n",
      "ETH-USDclose     101607 non-null float64\n",
      "ETH-USDvolume    101607 non-null float64\n",
      "dtypes: float64(8)\n",
      "memory usage: 12.0 MB\n"
     ]
    }
   ],
   "source": [
    "main_df.info()"
   ]
  },
  {
   "cell_type": "code",
   "execution_count": 27,
   "metadata": {
    "collapsed": false
   },
   "outputs": [
    {
     "data": {
      "text/html": [
       "<div>\n",
       "<style scoped>\n",
       "    .dataframe tbody tr th:only-of-type {\n",
       "        vertical-align: middle;\n",
       "    }\n",
       "\n",
       "    .dataframe tbody tr th {\n",
       "        vertical-align: top;\n",
       "    }\n",
       "\n",
       "    .dataframe thead th {\n",
       "        text-align: right;\n",
       "    }\n",
       "</style>\n",
       "<table border=\"1\" class=\"dataframe\">\n",
       "  <thead>\n",
       "    <tr style=\"text-align: right;\">\n",
       "      <th></th>\n",
       "      <th>LTC-USDclose</th>\n",
       "      <th>LTC-USDvolume</th>\n",
       "      <th>BCH-USDclose</th>\n",
       "      <th>BCH-USDvolume</th>\n",
       "      <th>BTC-USDclose</th>\n",
       "      <th>BTC-USDvolume</th>\n",
       "      <th>ETH-USDclose</th>\n",
       "      <th>ETH-USDvolume</th>\n",
       "    </tr>\n",
       "  </thead>\n",
       "  <tbody>\n",
       "    <tr>\n",
       "      <th>count</th>\n",
       "      <td>101883.000000</td>\n",
       "      <td>101883.000000</td>\n",
       "      <td>91389.000000</td>\n",
       "      <td>91389.000000</td>\n",
       "      <td>96495.000000</td>\n",
       "      <td>96495.000000</td>\n",
       "      <td>101607.000000</td>\n",
       "      <td>101607.000000</td>\n",
       "    </tr>\n",
       "    <tr>\n",
       "      <th>mean</th>\n",
       "      <td>77.106538</td>\n",
       "      <td>117.740514</td>\n",
       "      <td>717.958078</td>\n",
       "      <td>11.684106</td>\n",
       "      <td>6771.628569</td>\n",
       "      <td>6.085198</td>\n",
       "      <td>421.700171</td>\n",
       "      <td>56.858349</td>\n",
       "    </tr>\n",
       "    <tr>\n",
       "      <th>std</th>\n",
       "      <td>12.665563</td>\n",
       "      <td>285.366124</td>\n",
       "      <td>111.099142</td>\n",
       "      <td>33.522667</td>\n",
       "      <td>640.753115</td>\n",
       "      <td>16.734361</td>\n",
       "      <td>74.774117</td>\n",
       "      <td>154.491608</td>\n",
       "    </tr>\n",
       "    <tr>\n",
       "      <th>min</th>\n",
       "      <td>49.560001</td>\n",
       "      <td>0.000060</td>\n",
       "      <td>473.209991</td>\n",
       "      <td>0.000002</td>\n",
       "      <td>5778.109863</td>\n",
       "      <td>0.001915</td>\n",
       "      <td>251.000000</td>\n",
       "      <td>0.000030</td>\n",
       "    </tr>\n",
       "    <tr>\n",
       "      <th>25%</th>\n",
       "      <td>72.519997</td>\n",
       "      <td>12.073304</td>\n",
       "      <td>656.150024</td>\n",
       "      <td>0.436415</td>\n",
       "      <td>6340.024902</td>\n",
       "      <td>0.842949</td>\n",
       "      <td>397.315002</td>\n",
       "      <td>5.589096</td>\n",
       "    </tr>\n",
       "    <tr>\n",
       "      <th>50%</th>\n",
       "      <td>79.900002</td>\n",
       "      <td>34.492237</td>\n",
       "      <td>731.830017</td>\n",
       "      <td>2.051119</td>\n",
       "      <td>6535.410156</td>\n",
       "      <td>2.034166</td>\n",
       "      <td>449.239990</td>\n",
       "      <td>15.776600</td>\n",
       "    </tr>\n",
       "    <tr>\n",
       "      <th>75%</th>\n",
       "      <td>84.410004</td>\n",
       "      <td>104.343212</td>\n",
       "      <td>804.489990</td>\n",
       "      <td>8.995561</td>\n",
       "      <td>7280.009766</td>\n",
       "      <td>5.026753</td>\n",
       "      <td>471.019989</td>\n",
       "      <td>46.984383</td>\n",
       "    </tr>\n",
       "    <tr>\n",
       "      <th>max</th>\n",
       "      <td>103.040001</td>\n",
       "      <td>10263.191410</td>\n",
       "      <td>927.000000</td>\n",
       "      <td>1520.833862</td>\n",
       "      <td>8482.799805</td>\n",
       "      <td>801.442993</td>\n",
       "      <td>547.000000</td>\n",
       "      <td>9310.024414</td>\n",
       "    </tr>\n",
       "  </tbody>\n",
       "</table>\n",
       "</div>"
      ],
      "text/plain": [
       "        LTC-USDclose  LTC-USDvolume  BCH-USDclose  BCH-USDvolume  \\\n",
       "count  101883.000000  101883.000000  91389.000000   91389.000000   \n",
       "mean       77.106538     117.740514    717.958078      11.684106   \n",
       "std        12.665563     285.366124    111.099142      33.522667   \n",
       "min        49.560001       0.000060    473.209991       0.000002   \n",
       "25%        72.519997      12.073304    656.150024       0.436415   \n",
       "50%        79.900002      34.492237    731.830017       2.051119   \n",
       "75%        84.410004     104.343212    804.489990       8.995561   \n",
       "max       103.040001   10263.191410    927.000000    1520.833862   \n",
       "\n",
       "       BTC-USDclose  BTC-USDvolume   ETH-USDclose  ETH-USDvolume  \n",
       "count  96495.000000   96495.000000  101607.000000  101607.000000  \n",
       "mean    6771.628569       6.085198     421.700171      56.858349  \n",
       "std      640.753115      16.734361      74.774117     154.491608  \n",
       "min     5778.109863       0.001915     251.000000       0.000030  \n",
       "25%     6340.024902       0.842949     397.315002       5.589096  \n",
       "50%     6535.410156       2.034166     449.239990      15.776600  \n",
       "75%     7280.009766       5.026753     471.019989      46.984383  \n",
       "max     8482.799805     801.442993     547.000000    9310.024414  "
      ]
     },
     "execution_count": 27,
     "metadata": {},
     "output_type": "execute_result"
    }
   ],
   "source": [
    "main_df.describe()"
   ]
  },
  {
   "cell_type": "code",
   "execution_count": 35,
   "metadata": {
    "collapsed": false
   },
   "outputs": [
    {
     "data": {
      "text/html": [
       "<div>\n",
       "<style scoped>\n",
       "    .dataframe tbody tr th:only-of-type {\n",
       "        vertical-align: middle;\n",
       "    }\n",
       "\n",
       "    .dataframe tbody tr th {\n",
       "        vertical-align: top;\n",
       "    }\n",
       "\n",
       "    .dataframe thead th {\n",
       "        text-align: right;\n",
       "    }\n",
       "</style>\n",
       "<table border=\"1\" class=\"dataframe\">\n",
       "  <thead>\n",
       "    <tr style=\"text-align: right;\">\n",
       "      <th></th>\n",
       "      <th>LTC-USDclose</th>\n",
       "      <th>LTC-USDvolume</th>\n",
       "      <th>BCH-USDclose</th>\n",
       "      <th>BCH-USDvolume</th>\n",
       "      <th>BTC-USDclose</th>\n",
       "      <th>BTC-USDvolume</th>\n",
       "      <th>ETH-USDclose</th>\n",
       "      <th>ETH-USDvolume</th>\n",
       "    </tr>\n",
       "    <tr>\n",
       "      <th>time</th>\n",
       "      <th></th>\n",
       "      <th></th>\n",
       "      <th></th>\n",
       "      <th></th>\n",
       "      <th></th>\n",
       "      <th></th>\n",
       "      <th></th>\n",
       "      <th></th>\n",
       "    </tr>\n",
       "  </thead>\n",
       "  <tbody>\n",
       "    <tr>\n",
       "      <th>1528968720</th>\n",
       "      <td>96.660004</td>\n",
       "      <td>314.387024</td>\n",
       "      <td>870.859985</td>\n",
       "      <td>26.856577</td>\n",
       "      <td>6487.379883</td>\n",
       "      <td>7.706374</td>\n",
       "      <td>486.01001</td>\n",
       "      <td>26.019083</td>\n",
       "    </tr>\n",
       "    <tr>\n",
       "      <th>1528968780</th>\n",
       "      <td>96.570000</td>\n",
       "      <td>77.129799</td>\n",
       "      <td>870.099976</td>\n",
       "      <td>1.124300</td>\n",
       "      <td>6479.410156</td>\n",
       "      <td>3.088252</td>\n",
       "      <td>486.00000</td>\n",
       "      <td>8.449400</td>\n",
       "    </tr>\n",
       "    <tr>\n",
       "      <th>1528968840</th>\n",
       "      <td>96.500000</td>\n",
       "      <td>7.216067</td>\n",
       "      <td>870.789978</td>\n",
       "      <td>1.749862</td>\n",
       "      <td>6479.410156</td>\n",
       "      <td>1.404100</td>\n",
       "      <td>485.75000</td>\n",
       "      <td>26.994646</td>\n",
       "    </tr>\n",
       "    <tr>\n",
       "      <th>1528968900</th>\n",
       "      <td>96.389999</td>\n",
       "      <td>524.539978</td>\n",
       "      <td>870.000000</td>\n",
       "      <td>1.680500</td>\n",
       "      <td>6479.979980</td>\n",
       "      <td>0.753000</td>\n",
       "      <td>486.00000</td>\n",
       "      <td>77.355759</td>\n",
       "    </tr>\n",
       "    <tr>\n",
       "      <th>1528968960</th>\n",
       "      <td>96.519997</td>\n",
       "      <td>16.991997</td>\n",
       "      <td>869.989990</td>\n",
       "      <td>1.669014</td>\n",
       "      <td>6480.000000</td>\n",
       "      <td>1.490900</td>\n",
       "      <td>486.00000</td>\n",
       "      <td>7.503300</td>\n",
       "    </tr>\n",
       "  </tbody>\n",
       "</table>\n",
       "</div>"
      ],
      "text/plain": [
       "            LTC-USDclose  LTC-USDvolume  BCH-USDclose  BCH-USDvolume  \\\n",
       "time                                                                   \n",
       "1528968720     96.660004     314.387024    870.859985      26.856577   \n",
       "1528968780     96.570000      77.129799    870.099976       1.124300   \n",
       "1528968840     96.500000       7.216067    870.789978       1.749862   \n",
       "1528968900     96.389999     524.539978    870.000000       1.680500   \n",
       "1528968960     96.519997      16.991997    869.989990       1.669014   \n",
       "\n",
       "            BTC-USDclose  BTC-USDvolume  ETH-USDclose  ETH-USDvolume  \n",
       "time                                                                  \n",
       "1528968720   6487.379883       7.706374     486.01001      26.019083  \n",
       "1528968780   6479.410156       3.088252     486.00000       8.449400  \n",
       "1528968840   6479.410156       1.404100     485.75000      26.994646  \n",
       "1528968900   6479.979980       0.753000     486.00000      77.355759  \n",
       "1528968960   6480.000000       1.490900     486.00000       7.503300  "
      ]
     },
     "execution_count": 35,
     "metadata": {},
     "output_type": "execute_result"
    }
   ],
   "source": [
    "## as we need to make uniform dataset we fill the gaps\n",
    "main_df.fillna(method='ffill',inplace=True)  # if there are gaps in data, use previously known values\n",
    "main_df.dropna(inplace=True)\n",
    "main_df.head()\n"
   ]
  },
  {
   "cell_type": "code",
   "execution_count": 36,
   "metadata": {
    "collapsed": false
   },
   "outputs": [
    {
     "data": {
      "text/html": [
       "<div>\n",
       "<style scoped>\n",
       "    .dataframe tbody tr th:only-of-type {\n",
       "        vertical-align: middle;\n",
       "    }\n",
       "\n",
       "    .dataframe tbody tr th {\n",
       "        vertical-align: top;\n",
       "    }\n",
       "\n",
       "    .dataframe thead th {\n",
       "        text-align: right;\n",
       "    }\n",
       "</style>\n",
       "<table border=\"1\" class=\"dataframe\">\n",
       "  <thead>\n",
       "    <tr style=\"text-align: right;\">\n",
       "      <th></th>\n",
       "      <th>LTC-USDclose</th>\n",
       "      <th>LTC-USDvolume</th>\n",
       "      <th>BCH-USDclose</th>\n",
       "      <th>BCH-USDvolume</th>\n",
       "      <th>BTC-USDclose</th>\n",
       "      <th>BTC-USDvolume</th>\n",
       "      <th>ETH-USDclose</th>\n",
       "      <th>ETH-USDvolume</th>\n",
       "    </tr>\n",
       "  </thead>\n",
       "  <tbody>\n",
       "    <tr>\n",
       "      <th>count</th>\n",
       "      <td>101882.000000</td>\n",
       "      <td>101882.000000</td>\n",
       "      <td>101882.000000</td>\n",
       "      <td>101882.000000</td>\n",
       "      <td>101882.000000</td>\n",
       "      <td>101882.000000</td>\n",
       "      <td>101882.000000</td>\n",
       "      <td>101882.000000</td>\n",
       "    </tr>\n",
       "    <tr>\n",
       "      <th>mean</th>\n",
       "      <td>77.106347</td>\n",
       "      <td>117.741575</td>\n",
       "      <td>717.247216</td>\n",
       "      <td>10.918515</td>\n",
       "      <td>6778.881470</td>\n",
       "      <td>6.033423</td>\n",
       "      <td>421.690726</td>\n",
       "      <td>56.765622</td>\n",
       "    </tr>\n",
       "    <tr>\n",
       "      <th>std</th>\n",
       "      <td>12.665478</td>\n",
       "      <td>285.367324</td>\n",
       "      <td>110.952834</td>\n",
       "      <td>32.118793</td>\n",
       "      <td>624.438225</td>\n",
       "      <td>16.287719</td>\n",
       "      <td>74.769418</td>\n",
       "      <td>154.573611</td>\n",
       "    </tr>\n",
       "    <tr>\n",
       "      <th>min</th>\n",
       "      <td>49.560001</td>\n",
       "      <td>0.000060</td>\n",
       "      <td>473.209991</td>\n",
       "      <td>0.000002</td>\n",
       "      <td>5778.109863</td>\n",
       "      <td>0.001915</td>\n",
       "      <td>251.000000</td>\n",
       "      <td>0.000030</td>\n",
       "    </tr>\n",
       "    <tr>\n",
       "      <th>25%</th>\n",
       "      <td>72.519997</td>\n",
       "      <td>12.073337</td>\n",
       "      <td>655.472473</td>\n",
       "      <td>0.382687</td>\n",
       "      <td>6349.189941</td>\n",
       "      <td>0.895703</td>\n",
       "      <td>397.549988</td>\n",
       "      <td>5.565891</td>\n",
       "    </tr>\n",
       "    <tr>\n",
       "      <th>50%</th>\n",
       "      <td>79.900002</td>\n",
       "      <td>34.496257</td>\n",
       "      <td>730.989990</td>\n",
       "      <td>1.859040</td>\n",
       "      <td>6574.975098</td>\n",
       "      <td>2.221135</td>\n",
       "      <td>449.250000</td>\n",
       "      <td>15.728590</td>\n",
       "    </tr>\n",
       "    <tr>\n",
       "      <th>75%</th>\n",
       "      <td>84.410004</td>\n",
       "      <td>104.344118</td>\n",
       "      <td>803.614990</td>\n",
       "      <td>8.074222</td>\n",
       "      <td>7014.750000</td>\n",
       "      <td>5.151826</td>\n",
       "      <td>471.007507</td>\n",
       "      <td>46.835917</td>\n",
       "    </tr>\n",
       "    <tr>\n",
       "      <th>max</th>\n",
       "      <td>103.040001</td>\n",
       "      <td>10263.191410</td>\n",
       "      <td>927.000000</td>\n",
       "      <td>1520.833862</td>\n",
       "      <td>8482.799805</td>\n",
       "      <td>801.442993</td>\n",
       "      <td>547.000000</td>\n",
       "      <td>9310.024414</td>\n",
       "    </tr>\n",
       "  </tbody>\n",
       "</table>\n",
       "</div>"
      ],
      "text/plain": [
       "        LTC-USDclose  LTC-USDvolume   BCH-USDclose  BCH-USDvolume  \\\n",
       "count  101882.000000  101882.000000  101882.000000  101882.000000   \n",
       "mean       77.106347     117.741575     717.247216      10.918515   \n",
       "std        12.665478     285.367324     110.952834      32.118793   \n",
       "min        49.560001       0.000060     473.209991       0.000002   \n",
       "25%        72.519997      12.073337     655.472473       0.382687   \n",
       "50%        79.900002      34.496257     730.989990       1.859040   \n",
       "75%        84.410004     104.344118     803.614990       8.074222   \n",
       "max       103.040001   10263.191410     927.000000    1520.833862   \n",
       "\n",
       "        BTC-USDclose  BTC-USDvolume   ETH-USDclose  ETH-USDvolume  \n",
       "count  101882.000000  101882.000000  101882.000000  101882.000000  \n",
       "mean     6778.881470       6.033423     421.690726      56.765622  \n",
       "std       624.438225      16.287719      74.769418     154.573611  \n",
       "min      5778.109863       0.001915     251.000000       0.000030  \n",
       "25%      6349.189941       0.895703     397.549988       5.565891  \n",
       "50%      6574.975098       2.221135     449.250000      15.728590  \n",
       "75%      7014.750000       5.151826     471.007507      46.835917  \n",
       "max      8482.799805     801.442993     547.000000    9310.024414  "
      ]
     },
     "execution_count": 36,
     "metadata": {},
     "output_type": "execute_result"
    }
   ],
   "source": [
    "main_df.describe()"
   ]
  },
  {
   "cell_type": "markdown",
   "metadata": {},
   "source": [
    "We take the sequence length 60 for the rnn and we want to predict the data for 3 minutes into the future and we want to predict whether we want to buy or sell it."
   ]
  },
  {
   "cell_type": "code",
   "execution_count": 37,
   "metadata": {
    "collapsed": true
   },
   "outputs": [],
   "source": [
    "seq_len=60\n",
    "future_pred=3\n",
    "## for now we will predict the prices of the BTC-USD\n",
    "ratio_to_predict='BTC-USD'"
   ]
  },
  {
   "cell_type": "code",
   "execution_count": 38,
   "metadata": {
    "collapsed": true
   },
   "outputs": [],
   "source": [
    "def classify(curr,fut):\n",
    "    if(fut>curr):\n",
    "        return 1\n",
    "    else:\n",
    "        return 0"
   ]
  },
  {
   "cell_type": "markdown",
   "metadata": {},
   "source": [
    "We map the above function to predict the labels."
   ]
  },
  {
   "cell_type": "code",
   "execution_count": 40,
   "metadata": {
    "collapsed": true
   },
   "outputs": [],
   "source": [
    "main_df['future']=main_df[ratio_to_predict+'close'].shift(-future_pred)"
   ]
  },
  {
   "cell_type": "code",
   "execution_count": 41,
   "metadata": {
    "collapsed": true
   },
   "outputs": [],
   "source": [
    "main_df['target']=list(map(classify,main_df[ratio_to_predict+'close'],main_df['future']))"
   ]
  },
  {
   "cell_type": "code",
   "execution_count": 42,
   "metadata": {
    "collapsed": false
   },
   "outputs": [
    {
     "data": {
      "text/html": [
       "<div>\n",
       "<style scoped>\n",
       "    .dataframe tbody tr th:only-of-type {\n",
       "        vertical-align: middle;\n",
       "    }\n",
       "\n",
       "    .dataframe tbody tr th {\n",
       "        vertical-align: top;\n",
       "    }\n",
       "\n",
       "    .dataframe thead th {\n",
       "        text-align: right;\n",
       "    }\n",
       "</style>\n",
       "<table border=\"1\" class=\"dataframe\">\n",
       "  <thead>\n",
       "    <tr style=\"text-align: right;\">\n",
       "      <th></th>\n",
       "      <th>LTC-USDclose</th>\n",
       "      <th>LTC-USDvolume</th>\n",
       "      <th>BCH-USDclose</th>\n",
       "      <th>BCH-USDvolume</th>\n",
       "      <th>BTC-USDclose</th>\n",
       "      <th>BTC-USDvolume</th>\n",
       "      <th>ETH-USDclose</th>\n",
       "      <th>ETH-USDvolume</th>\n",
       "      <th>future</th>\n",
       "      <th>target</th>\n",
       "    </tr>\n",
       "    <tr>\n",
       "      <th>time</th>\n",
       "      <th></th>\n",
       "      <th></th>\n",
       "      <th></th>\n",
       "      <th></th>\n",
       "      <th></th>\n",
       "      <th></th>\n",
       "      <th></th>\n",
       "      <th></th>\n",
       "      <th></th>\n",
       "      <th></th>\n",
       "    </tr>\n",
       "  </thead>\n",
       "  <tbody>\n",
       "    <tr>\n",
       "      <th>1528968720</th>\n",
       "      <td>96.660004</td>\n",
       "      <td>314.387024</td>\n",
       "      <td>870.859985</td>\n",
       "      <td>26.856577</td>\n",
       "      <td>6487.379883</td>\n",
       "      <td>7.706374</td>\n",
       "      <td>486.01001</td>\n",
       "      <td>26.019083</td>\n",
       "      <td>6479.979980</td>\n",
       "      <td>0</td>\n",
       "    </tr>\n",
       "    <tr>\n",
       "      <th>1528968780</th>\n",
       "      <td>96.570000</td>\n",
       "      <td>77.129799</td>\n",
       "      <td>870.099976</td>\n",
       "      <td>1.124300</td>\n",
       "      <td>6479.410156</td>\n",
       "      <td>3.088252</td>\n",
       "      <td>486.00000</td>\n",
       "      <td>8.449400</td>\n",
       "      <td>6480.000000</td>\n",
       "      <td>1</td>\n",
       "    </tr>\n",
       "    <tr>\n",
       "      <th>1528968840</th>\n",
       "      <td>96.500000</td>\n",
       "      <td>7.216067</td>\n",
       "      <td>870.789978</td>\n",
       "      <td>1.749862</td>\n",
       "      <td>6479.410156</td>\n",
       "      <td>1.404100</td>\n",
       "      <td>485.75000</td>\n",
       "      <td>26.994646</td>\n",
       "      <td>6477.220215</td>\n",
       "      <td>0</td>\n",
       "    </tr>\n",
       "    <tr>\n",
       "      <th>1528968900</th>\n",
       "      <td>96.389999</td>\n",
       "      <td>524.539978</td>\n",
       "      <td>870.000000</td>\n",
       "      <td>1.680500</td>\n",
       "      <td>6479.979980</td>\n",
       "      <td>0.753000</td>\n",
       "      <td>486.00000</td>\n",
       "      <td>77.355759</td>\n",
       "      <td>6480.000000</td>\n",
       "      <td>1</td>\n",
       "    </tr>\n",
       "    <tr>\n",
       "      <th>1528968960</th>\n",
       "      <td>96.519997</td>\n",
       "      <td>16.991997</td>\n",
       "      <td>869.989990</td>\n",
       "      <td>1.669014</td>\n",
       "      <td>6480.000000</td>\n",
       "      <td>1.490900</td>\n",
       "      <td>486.00000</td>\n",
       "      <td>7.503300</td>\n",
       "      <td>6479.990234</td>\n",
       "      <td>0</td>\n",
       "    </tr>\n",
       "  </tbody>\n",
       "</table>\n",
       "</div>"
      ],
      "text/plain": [
       "            LTC-USDclose  LTC-USDvolume  BCH-USDclose  BCH-USDvolume  \\\n",
       "time                                                                   \n",
       "1528968720     96.660004     314.387024    870.859985      26.856577   \n",
       "1528968780     96.570000      77.129799    870.099976       1.124300   \n",
       "1528968840     96.500000       7.216067    870.789978       1.749862   \n",
       "1528968900     96.389999     524.539978    870.000000       1.680500   \n",
       "1528968960     96.519997      16.991997    869.989990       1.669014   \n",
       "\n",
       "            BTC-USDclose  BTC-USDvolume  ETH-USDclose  ETH-USDvolume  \\\n",
       "time                                                                   \n",
       "1528968720   6487.379883       7.706374     486.01001      26.019083   \n",
       "1528968780   6479.410156       3.088252     486.00000       8.449400   \n",
       "1528968840   6479.410156       1.404100     485.75000      26.994646   \n",
       "1528968900   6479.979980       0.753000     486.00000      77.355759   \n",
       "1528968960   6480.000000       1.490900     486.00000       7.503300   \n",
       "\n",
       "                 future  target  \n",
       "time                             \n",
       "1528968720  6479.979980       0  \n",
       "1528968780  6480.000000       1  \n",
       "1528968840  6477.220215       0  \n",
       "1528968900  6480.000000       1  \n",
       "1528968960  6479.990234       0  "
      ]
     },
     "execution_count": 42,
     "metadata": {},
     "output_type": "execute_result"
    }
   ],
   "source": [
    "main_df.head()"
   ]
  },
  {
   "cell_type": "code",
   "execution_count": 60,
   "metadata": {
    "collapsed": false
   },
   "outputs": [
    {
     "data": {
      "text/html": [
       "<div>\n",
       "<style scoped>\n",
       "    .dataframe tbody tr th:only-of-type {\n",
       "        vertical-align: middle;\n",
       "    }\n",
       "\n",
       "    .dataframe tbody tr th {\n",
       "        vertical-align: top;\n",
       "    }\n",
       "\n",
       "    .dataframe thead th {\n",
       "        text-align: right;\n",
       "    }\n",
       "</style>\n",
       "<table border=\"1\" class=\"dataframe\">\n",
       "  <thead>\n",
       "    <tr style=\"text-align: right;\">\n",
       "      <th></th>\n",
       "      <th>LTC-USDclose</th>\n",
       "      <th>LTC-USDvolume</th>\n",
       "      <th>BCH-USDclose</th>\n",
       "      <th>BCH-USDvolume</th>\n",
       "      <th>BTC-USDclose</th>\n",
       "      <th>BTC-USDvolume</th>\n",
       "      <th>ETH-USDclose</th>\n",
       "      <th>ETH-USDvolume</th>\n",
       "      <th>future</th>\n",
       "      <th>target</th>\n",
       "    </tr>\n",
       "  </thead>\n",
       "  <tbody>\n",
       "    <tr>\n",
       "      <th>count</th>\n",
       "      <td>96788.000000</td>\n",
       "      <td>96788.000000</td>\n",
       "      <td>96788.000000</td>\n",
       "      <td>96788.000000</td>\n",
       "      <td>96788.000000</td>\n",
       "      <td>96788.000000</td>\n",
       "      <td>96788.000000</td>\n",
       "      <td>96788.000000</td>\n",
       "      <td>96788.000000</td>\n",
       "      <td>96788.000000</td>\n",
       "    </tr>\n",
       "    <tr>\n",
       "      <th>mean</th>\n",
       "      <td>78.177470</td>\n",
       "      <td>119.250834</td>\n",
       "      <td>727.057114</td>\n",
       "      <td>11.106231</td>\n",
       "      <td>6790.612858</td>\n",
       "      <td>6.026253</td>\n",
       "      <td>429.294960</td>\n",
       "      <td>56.380786</td>\n",
       "      <td>6790.622484</td>\n",
       "      <td>0.424143</td>\n",
       "    </tr>\n",
       "    <tr>\n",
       "      <th>std</th>\n",
       "      <td>12.076839</td>\n",
       "      <td>287.374005</td>\n",
       "      <td>105.013352</td>\n",
       "      <td>32.522142</td>\n",
       "      <td>637.856197</td>\n",
       "      <td>16.108199</td>\n",
       "      <td>68.750655</td>\n",
       "      <td>154.015593</td>\n",
       "      <td>637.853885</td>\n",
       "      <td>0.494215</td>\n",
       "    </tr>\n",
       "    <tr>\n",
       "      <th>min</th>\n",
       "      <td>49.560001</td>\n",
       "      <td>0.000060</td>\n",
       "      <td>473.209991</td>\n",
       "      <td>0.000002</td>\n",
       "      <td>5778.109863</td>\n",
       "      <td>0.001915</td>\n",
       "      <td>251.000000</td>\n",
       "      <td>0.000030</td>\n",
       "      <td>5778.109863</td>\n",
       "      <td>0.000000</td>\n",
       "    </tr>\n",
       "    <tr>\n",
       "      <th>25%</th>\n",
       "      <td>74.290001</td>\n",
       "      <td>12.314004</td>\n",
       "      <td>690.297485</td>\n",
       "      <td>0.393390</td>\n",
       "      <td>6341.339844</td>\n",
       "      <td>0.896463</td>\n",
       "      <td>408.000000</td>\n",
       "      <td>5.554929</td>\n",
       "      <td>6341.339844</td>\n",
       "      <td>0.000000</td>\n",
       "    </tr>\n",
       "    <tr>\n",
       "      <th>50%</th>\n",
       "      <td>80.639999</td>\n",
       "      <td>35.185001</td>\n",
       "      <td>740.059998</td>\n",
       "      <td>1.918528</td>\n",
       "      <td>6578.060059</td>\n",
       "      <td>2.230048</td>\n",
       "      <td>451.260010</td>\n",
       "      <td>15.678350</td>\n",
       "      <td>6578.069824</td>\n",
       "      <td>0.000000</td>\n",
       "    </tr>\n",
       "    <tr>\n",
       "      <th>75%</th>\n",
       "      <td>84.712500</td>\n",
       "      <td>106.102585</td>\n",
       "      <td>809.422485</td>\n",
       "      <td>8.317354</td>\n",
       "      <td>7267.787353</td>\n",
       "      <td>5.151826</td>\n",
       "      <td>472.100006</td>\n",
       "      <td>46.594953</td>\n",
       "      <td>7267.787353</td>\n",
       "      <td>1.000000</td>\n",
       "    </tr>\n",
       "    <tr>\n",
       "      <th>max</th>\n",
       "      <td>103.040001</td>\n",
       "      <td>10263.191410</td>\n",
       "      <td>927.000000</td>\n",
       "      <td>1520.833862</td>\n",
       "      <td>8482.799805</td>\n",
       "      <td>801.442993</td>\n",
       "      <td>547.000000</td>\n",
       "      <td>9310.024414</td>\n",
       "      <td>8482.799805</td>\n",
       "      <td>1.000000</td>\n",
       "    </tr>\n",
       "  </tbody>\n",
       "</table>\n",
       "</div>"
      ],
      "text/plain": [
       "       LTC-USDclose  LTC-USDvolume  BCH-USDclose  BCH-USDvolume  BTC-USDclose  \\\n",
       "count  96788.000000   96788.000000  96788.000000   96788.000000  96788.000000   \n",
       "mean      78.177470     119.250834    727.057114      11.106231   6790.612858   \n",
       "std       12.076839     287.374005    105.013352      32.522142    637.856197   \n",
       "min       49.560001       0.000060    473.209991       0.000002   5778.109863   \n",
       "25%       74.290001      12.314004    690.297485       0.393390   6341.339844   \n",
       "50%       80.639999      35.185001    740.059998       1.918528   6578.060059   \n",
       "75%       84.712500     106.102585    809.422485       8.317354   7267.787353   \n",
       "max      103.040001   10263.191410    927.000000    1520.833862   8482.799805   \n",
       "\n",
       "       BTC-USDvolume  ETH-USDclose  ETH-USDvolume        future        target  \n",
       "count   96788.000000  96788.000000   96788.000000  96788.000000  96788.000000  \n",
       "mean        6.026253    429.294960      56.380786   6790.622484      0.424143  \n",
       "std        16.108199     68.750655     154.015593    637.853885      0.494215  \n",
       "min         0.001915    251.000000       0.000030   5778.109863      0.000000  \n",
       "25%         0.896463    408.000000       5.554929   6341.339844      0.000000  \n",
       "50%         2.230048    451.260010      15.678350   6578.069824      0.000000  \n",
       "75%         5.151826    472.100006      46.594953   7267.787353      1.000000  \n",
       "max       801.442993    547.000000    9310.024414   8482.799805      1.000000  "
      ]
     },
     "execution_count": 60,
     "metadata": {},
     "output_type": "execute_result"
    }
   ],
   "source": [
    "main_df.describe()"
   ]
  },
  {
   "cell_type": "markdown",
   "metadata": {},
   "source": [
    "Forming the validation set.Here we cannot randomly shuffle the data and then slice out the validation set."
   ]
  },
  {
   "cell_type": "code",
   "execution_count": 45,
   "metadata": {
    "collapsed": true
   },
   "outputs": [],
   "source": [
    "times=sorted(main_df.index.values)    #Return a new list containing all items from the iterable in ascending order.\n",
    "last_5pct=sorted(main_df.index.values)[-int(0.05*len(times))]   ## get the last 5% of times.\n",
    "\n",
    "# here validation set is 5% of the total dataset.\n",
    "validation_main_df=main_df[main_df.index>=last_5pct]\n",
    "main_df=main_df[main_df.index<last_5pct]"
   ]
  },
  {
   "cell_type": "markdown",
   "metadata": {},
   "source": [
    "Now we need to balance and normalize the data. By balacing we mean that the label of the data does not belong to only one class but have equal amount of different labels so that our model after training doesnot predict only one class.\n",
    "\n",
    "One way to counteract the above problem is by using weighted class that allows us to assign higher weights to the lesser frequent class. That said, this method is not comparable to a balanced data-set."
   ]
  },
  {
   "cell_type": "code",
   "execution_count": 46,
   "metadata": {
    "collapsed": true
   },
   "outputs": [],
   "source": [
    "from sklearn import preprocessing"
   ]
  },
  {
   "cell_type": "code",
   "execution_count": 47,
   "metadata": {
    "collapsed": true
   },
   "outputs": [],
   "source": [
    "import numpy as np"
   ]
  },
  {
   "cell_type": "markdown",
   "metadata": {},
   "source": [
    "# Normalising and scaling the data"
   ]
  },
  {
   "cell_type": "code",
   "execution_count": 49,
   "metadata": {
    "collapsed": true
   },
   "outputs": [],
   "source": [
    "def preprocess(df):\n",
    "    df=df.drop('future',1)\n",
    "    \n",
    "    for col in df.columns:\n",
    "        if col!='target':\n",
    "            df[col]=df[col].pct_change() \n",
    "        # pct change \"normalizes\" the different currencies (each crypto coin has vastly diff values, we're really \n",
    "        #                                                   more interested in the other coin's movements)\n",
    "            \n",
    "            ## there will be some zero after this and infinity.\n",
    "            df[col]=df[col].replace(np.inf,np.nan)\n",
    "            df.dropna(inplace=True)\n",
    "            \n",
    "            df[col]=preprocessing.scale(df[col].values)  # scale between 0 and 1.\n",
    "            \n",
    "    df.dropna(inplace=True)  ## clearing up any nans left."
   ]
  },
  {
   "cell_type": "markdown",
   "metadata": {},
   "source": [
    "# Creating the sequence"
   ]
  },
  {
   "cell_type": "code",
   "execution_count": 54,
   "metadata": {
    "collapsed": false
   },
   "outputs": [
    {
     "data": {
      "text/plain": [
       "array([[9.66600040e+01, 3.14387024e+02, 8.70859985e+02, ...,\n",
       "        2.60190830e+01, 6.47997998e+03, 0.00000000e+00],\n",
       "       [9.65700000e+01, 7.71297990e+01, 8.70099976e+02, ...,\n",
       "        8.44940000e+00, 6.48000000e+03, 1.00000000e+00],\n",
       "       [9.65000000e+01, 7.21606700e+00, 8.70789978e+02, ...,\n",
       "        2.69946460e+01, 6.47722022e+03, 0.00000000e+00],\n",
       "       ...,\n",
       "       [5.81600000e+01, 2.33914398e+02, 5.61409973e+02, ...,\n",
       "        3.08321340e+01, 6.80283008e+03, 1.00000000e+00],\n",
       "       [5.81800000e+01, 3.80746002e+02, 5.63619995e+02, ...,\n",
       "        1.11611511e+02, 6.78858008e+03, 1.00000000e+00],\n",
       "       [5.82599980e+01, 5.67177660e+01, 5.62659973e+02, ...,\n",
       "        1.25616470e+02, 6.78650977e+03, 1.00000000e+00]])"
      ]
     },
     "execution_count": 54,
     "metadata": {},
     "output_type": "execute_result"
    }
   ],
   "source": [
    "main_df.values"
   ]
  },
  {
   "cell_type": "code",
   "execution_count": 52,
   "metadata": {
    "collapsed": false
   },
   "outputs": [
    {
     "data": {
      "text/plain": [
       "array([5.82599980e+01, 5.67177660e+01, 5.62659973e+02, 7.56550500e+00,\n",
       "       6.77700000e+03, 8.31823300e+00, 2.93250000e+02, 1.25616470e+02,\n",
       "       6.78650977e+03, 1.00000000e+00])"
      ]
     },
     "execution_count": 52,
     "metadata": {},
     "output_type": "execute_result"
    }
   ],
   "source": [
    "## for example\n",
    "main_df.values[-1]"
   ]
  },
  {
   "cell_type": "code",
   "execution_count": 55,
   "metadata": {
    "collapsed": false
   },
   "outputs": [
    {
     "data": {
      "text/plain": [
       "1.0"
      ]
     },
     "execution_count": 55,
     "metadata": {},
     "output_type": "execute_result"
    }
   ],
   "source": [
    "main_df.values[-1][-1]"
   ]
  },
  {
   "cell_type": "code",
   "execution_count": 57,
   "metadata": {
    "collapsed": true
   },
   "outputs": [],
   "source": [
    "    import random\n",
    "    from collections import deque"
   ]
  },
  {
   "cell_type": "code",
   "execution_count": 59,
   "metadata": {
    "collapsed": false
   },
   "outputs": [],
   "source": [
    "    sequential_data=[]\n",
    "    prev=deque(maxlen=seq_len)\n",
    "    # These will be our actual sequences. \n",
    "    # They are made with deque, which keeps the maximum length by popping out older values as new ones come in.\n",
    "\n",
    "    for i in df.values:\n",
    "        prev.append([n for n in i[:-1]])\n",
    "        if len(prev)==seq_len:\n",
    "            sequential_data.append([np.array(prev),i[-1]])\n",
    "\n",
    "    random.shuffle(sequential_data)"
   ]
  },
  {
   "cell_type": "markdown",
   "metadata": {},
   "source": [
    "# Balancing the dataset"
   ]
  },
  {
   "cell_type": "code",
   "execution_count": 69,
   "metadata": {
    "collapsed": false
   },
   "outputs": [],
   "source": [
    "    buys=[]\n",
    "    sells=[]\n",
    "\n",
    "    for seq,target in sequential_data:\n",
    "        if(target==0):  ## if it's not a buy.\n",
    "            sells.append([seq,target])\n",
    "        else:\n",
    "            buys.append([seq,target])\n",
    "\n",
    "    random.shuffle(sells)\n",
    "    random.shuffle(buys)\n",
    "\n",
    "    lower=min(len(buys),len(sells))\n",
    "\n",
    "    buys=buys[:lower]\n",
    "    sells=sells[:lower]\n",
    "\n",
    "    sequential_data=buys+sells\n",
    "    random.shuffle(sequential_data)"
   ]
  },
  {
   "cell_type": "code",
   "execution_count": 70,
   "metadata": {
    "collapsed": true
   },
   "outputs": [],
   "source": [
    "    ## splitting the data into training and testing set.\n",
    "    X=[]\n",
    "    y=[]\n",
    "    for seq,target in sequential_data:\n",
    "        X.append(seq)\n",
    "        y.append(target)\n"
   ]
  },
  {
   "cell_type": "markdown",
   "metadata": {},
   "source": [
    "# Now combining all the above methods in the prerocess function\n"
   ]
  },
  {
   "cell_type": "code",
   "execution_count": 75,
   "metadata": {
    "collapsed": false
   },
   "outputs": [],
   "source": [
    "def preprocess(df):\n",
    "    df=df.drop('future',1)\n",
    "    \n",
    "    for col in df.columns:\n",
    "        if col!='target':\n",
    "            df[col]=df[col].pct_change() \n",
    "        # pct change \"normalizes\" the different currencies (each crypto coin has vastly diff values, we're really \n",
    "        #                                                   more interested in the other coin's movements)\n",
    "            \n",
    "            ## there will be some zero after this and infinity.\n",
    "            df[col]=df[col].replace(np.inf,np.nan)\n",
    "            df.dropna(inplace=True)\n",
    "            \n",
    "            df[col]=preprocessing.scale(df[col].values)  # scale between 0 and 1.\n",
    "            \n",
    "    df.dropna(inplace=True)  ## clearing up any nans left.\n",
    "   \n",
    "    ## creating the sequence\n",
    "    sequential_data=[]\n",
    "    prev=deque(maxlen=seq_len)\n",
    "    # These will be our actual sequences. \n",
    "    # They are made with deque, which keeps the maximum length by popping out older values as new ones come in.\n",
    "\n",
    "    for i in df.values:\n",
    "        prev.append([n for n in i[:-1]])\n",
    "        if len(prev)==seq_len:\n",
    "            sequential_data.append([np.array(prev),i[-1]])\n",
    "\n",
    "    random.shuffle(sequential_data)\n",
    "    \n",
    "    buys=[]\n",
    "    sells=[]\n",
    "\n",
    "    ## balancing the data set\n",
    "    for seq,target in sequential_data:\n",
    "        if(target==0):  ## if it's not a buy.\n",
    "            sells.append([seq,target])\n",
    "        else:\n",
    "            buys.append([seq,target])\n",
    "\n",
    "    random.shuffle(sells)\n",
    "    random.shuffle(buys)\n",
    "\n",
    "    lower=min(len(buys),len(sells))\n",
    "\n",
    "    buys=buys[:lower]\n",
    "    sells=sells[:lower]\n",
    "\n",
    "    sequential_data=buys+sells\n",
    "    random.shuffle(sequential_data)\n",
    "    \n",
    "    ## splitting the data into training and testing set.\n",
    "    X=[]\n",
    "    y=[]\n",
    "    for seq,target in sequential_data:\n",
    "        X.append(seq)\n",
    "        y.append(target)\n",
    "\n",
    "    return np.array(X),y"
   ]
  },
  {
   "cell_type": "code",
   "execution_count": 79,
   "metadata": {
    "collapsed": false
   },
   "outputs": [],
   "source": [
    "train_x,train_y=preprocess(main_df)\n",
    "validation_x,validation_y=preprocess(validation_main_df)"
   ]
  },
  {
   "cell_type": "code",
   "execution_count": 82,
   "metadata": {
    "collapsed": false
   },
   "outputs": [
    {
     "name": "stdout",
     "output_type": "stream",
     "text": [
      "Train data:82032 , validation:4688\n",
      "Dont buy:41016, buys:41016\n",
      "validation dont buys:2344   ,  validation buys:2344\n"
     ]
    }
   ],
   "source": [
    "print('Train data:{} , validation:{}'.format(len(train_x),len(validation_x)))\n",
    "print('Dont buy:{}, buys:{}'.format(train_y.count(0),train_y.count(1)))\n",
    "print('validation dont buys:{}   ,  validation buys:{}'.format(validation_y.count(0),validation_y.count(1)))"
   ]
  },
  {
   "cell_type": "code",
   "execution_count": 86,
   "metadata": {
    "collapsed": true
   },
   "outputs": [],
   "source": [
    "import time\n",
    "\n",
    "epochs=10\n",
    "batch_size=64\n",
    "name='{}--seq--{}--pred-{}'.format(seq_len,future_pred,int(time.time()))"
   ]
  },
  {
   "cell_type": "code",
   "execution_count": 103,
   "metadata": {
    "collapsed": false
   },
   "outputs": [],
   "source": [
    "import tensorflow as tf\n",
    "from tensorflow.keras.models import Sequential\n",
    "from tensorflow.keras.layers import Dense, Dropout, LSTM, BatchNormalization\n",
    "from tensorflow.keras.callbacks import TensorBoard\n",
    "from tensorflow.keras.callbacks import ModelCheckpoint"
   ]
  },
  {
   "cell_type": "code",
   "execution_count": 104,
   "metadata": {
    "collapsed": true
   },
   "outputs": [],
   "source": [
    "model = Sequential()\n",
    "model.add(LSTM(128, input_shape=(train_x.shape[1:]), return_sequences=True))\n",
    "model.add(Dropout(0.2))\n",
    "model.add(BatchNormalization())  #normalizes activation outputs, same reason you want to normalize your input data.\n",
    "\n",
    "model.add(LSTM(128, return_sequences=True))\n",
    "model.add(Dropout(0.1))\n",
    "model.add(BatchNormalization())\n",
    "\n",
    "model.add(LSTM(128))\n",
    "model.add(Dropout(0.2))\n",
    "model.add(BatchNormalization())\n",
    "\n",
    "model.add(Dense(32, activation='relu'))\n",
    "model.add(Dropout(0.2))\n",
    "\n",
    "model.add(Dense(2, activation='softmax'))"
   ]
  },
  {
   "cell_type": "code",
   "execution_count": 105,
   "metadata": {
    "collapsed": true
   },
   "outputs": [],
   "source": [
    "opt=tf.keras.optimizers.Adam(lr=0.001,decay=1e-6)\n",
    "model.compile(loss='sparse_categorical_crossentropy',optimizer=opt,metrics=['accuracy'])"
   ]
  },
  {
   "cell_type": "code",
   "execution_count": 106,
   "metadata": {
    "collapsed": false
   },
   "outputs": [],
   "source": [
    "tensorboard = TensorBoard(log_dir=\"logs/{}\".format(name))"
   ]
  },
  {
   "cell_type": "code",
   "execution_count": 107,
   "metadata": {
    "collapsed": false
   },
   "outputs": [],
   "source": [
    "filepath=\"RNN_Final-{epoch:02d}-{val_acc:.3f}\"  # unique file name that will include the epoch and the validation acc for that epoch\n",
    "checkpoint = ModelCheckpoint(\"models/{}.model\".format(filepath, monitor='val_acc', verbose=1, save_best_only=True, mode='max')) # saves only the best ones"
   ]
  },
  {
   "cell_type": "code",
   "execution_count": null,
   "metadata": {
    "collapsed": false
   },
   "outputs": [],
   "source": [
    "# Train model\n",
    "history = model.fit(\n",
    "    train_x, train_y,\n",
    "    batch_size=batch_size,\n",
    "    epochs=epochs,\n",
    "    validation_data=(validation_x, validation_y),\n",
    "    callbacks=[tensorboard, checkpoint],\n",
    ")"
   ]
  },
  {
   "cell_type": "code",
   "execution_count": null,
   "metadata": {
    "collapsed": true
   },
   "outputs": [],
   "source": []
  }
 ],
 "metadata": {
  "anaconda-cloud": {},
  "kernelspec": {
   "display_name": "Python [conda root]",
   "language": "python",
   "name": "conda-root-py"
  },
  "language_info": {
   "codemirror_mode": {
    "name": "ipython",
    "version": 3
   },
   "file_extension": ".py",
   "mimetype": "text/x-python",
   "name": "python",
   "nbconvert_exporter": "python",
   "pygments_lexer": "ipython3",
   "version": "3.5.2"
  }
 },
 "nbformat": 4,
 "nbformat_minor": 1
}
